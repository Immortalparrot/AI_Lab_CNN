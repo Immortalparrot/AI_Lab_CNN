{
  "cells": [
    {
      "cell_type": "code",
      "execution_count": null,
      "metadata": {
        "colab": {
          "base_uri": "https://localhost:8080/"
        },
        "id": "JW2Uw-F3jncC",
        "outputId": "15f97c5d-eadc-4003-e109-758cbff61316"
      },
      "outputs": [
        {
          "output_type": "stream",
          "name": "stdout",
          "text": [
            "--2024-04-25 09:37:05--  http://www.soshnikov.com/permanent/data/petfaces.tar.gz\n",
            "Resolving www.soshnikov.com (www.soshnikov.com)... 79.137.227.122\n",
            "Connecting to www.soshnikov.com (www.soshnikov.com)|79.137.227.122|:80... connected.\n",
            "HTTP request sent, awaiting response... 200 OK\n",
            "Length: 24483412 (23M) [application/x-tar]\n",
            "Saving to: ‘petfaces.tar.gz’\n",
            "\n",
            "petfaces.tar.gz     100%[===================>]  23.35M   121KB/s    in 3m 24s  \n",
            "\n",
            "2024-10-08 18:16:03 (117 KB/s) - ‘petfaces.tar.gz’ saved [24483412/24483412]\n",
            "\n"
          ]
        }
      ],
      "source": [
        "!wget http://www.soshnikov.com/permanent/data/petfaces.tar.gz\n",
        "!tar xfz petfaces.tar.gz\n",
        "!rm petfaces.tar.gz"
      ]
    },
    {
      "cell_type": "code",
      "execution_count": null,
      "metadata": {
        "colab": {
          "base_uri": "https://localhost:8080/"
        },
        "id": "2w3k0uJoxdGk",
        "outputId": "db558620-7cce-4d89-84ba-45ce53455c1f"
      },
      "outputs": [
        {
          "output_type": "stream",
          "name": "stdout",
          "text": [
            "Requirement already satisfied: split-folders in /usr/local/lib/python3.10/dist-packages (0.5.1)\n"
          ]
        }
      ],
      "source": [
        "pip install split-folders"
      ]
    },
    {
      "cell_type": "code",
      "execution_count": null,
      "metadata": {
        "colab": {
          "base_uri": "https://localhost:8080/"
        },
        "id": "I-mCNzcsxeR9",
        "outputId": "9347ea0e-6486-4133-b0c2-3dc014b60602"
      },
      "outputs": [
        {
          "output_type": "stream",
          "name": "stdout",
          "text": [
            "Requirement already satisfied: torchinfo in /usr/local/lib/python3.10/dist-packages (1.8.0)\n"
          ]
        }
      ],
      "source": [
        "pip install torchinfo"
      ]
    },
    {
      "cell_type": "code",
      "execution_count": null,
      "metadata": {
        "colab": {
          "base_uri": "https://localhost:8080/"
        },
        "id": "k9qY86j-xgtb",
        "outputId": "221aef23-f281-4b58-9577-418114de04f9"
      },
      "outputs": [
        {
          "output_type": "stream",
          "name": "stdout",
          "text": [
            "Requirement already satisfied: torchmetrics in /usr/local/lib/python3.10/dist-packages (1.3.2)\n",
            "Requirement already satisfied: numpy>1.20.0 in /usr/local/lib/python3.10/dist-packages (from torchmetrics) (1.25.2)\n",
            "Requirement already satisfied: packaging>17.1 in /usr/local/lib/python3.10/dist-packages (from torchmetrics) (24.0)\n",
            "Requirement already satisfied: torch>=1.10.0 in /usr/local/lib/python3.10/dist-packages (from torchmetrics) (2.2.1+cu121)\n",
            "Requirement already satisfied: lightning-utilities>=0.8.0 in /usr/local/lib/python3.10/dist-packages (from torchmetrics) (0.11.2)\n",
            "Requirement already satisfied: setuptools in /usr/local/lib/python3.10/dist-packages (from lightning-utilities>=0.8.0->torchmetrics) (67.7.2)\n",
            "Requirement already satisfied: typing-extensions in /usr/local/lib/python3.10/dist-packages (from lightning-utilities>=0.8.0->torchmetrics) (4.11.0)\n",
            "Requirement already satisfied: filelock in /usr/local/lib/python3.10/dist-packages (from torch>=1.10.0->torchmetrics) (3.13.4)\n",
            "Requirement already satisfied: sympy in /usr/local/lib/python3.10/dist-packages (from torch>=1.10.0->torchmetrics) (1.12)\n",
            "Requirement already satisfied: networkx in /usr/local/lib/python3.10/dist-packages (from torch>=1.10.0->torchmetrics) (3.3)\n",
            "Requirement already satisfied: jinja2 in /usr/local/lib/python3.10/dist-packages (from torch>=1.10.0->torchmetrics) (3.1.3)\n",
            "Requirement already satisfied: fsspec in /usr/local/lib/python3.10/dist-packages (from torch>=1.10.0->torchmetrics) (2023.6.0)\n",
            "Requirement already satisfied: nvidia-cuda-nvrtc-cu12==12.1.105 in /usr/local/lib/python3.10/dist-packages (from torch>=1.10.0->torchmetrics) (12.1.105)\n",
            "Requirement already satisfied: nvidia-cuda-runtime-cu12==12.1.105 in /usr/local/lib/python3.10/dist-packages (from torch>=1.10.0->torchmetrics) (12.1.105)\n",
            "Requirement already satisfied: nvidia-cuda-cupti-cu12==12.1.105 in /usr/local/lib/python3.10/dist-packages (from torch>=1.10.0->torchmetrics) (12.1.105)\n",
            "Requirement already satisfied: nvidia-cudnn-cu12==8.9.2.26 in /usr/local/lib/python3.10/dist-packages (from torch>=1.10.0->torchmetrics) (8.9.2.26)\n",
            "Requirement already satisfied: nvidia-cublas-cu12==12.1.3.1 in /usr/local/lib/python3.10/dist-packages (from torch>=1.10.0->torchmetrics) (12.1.3.1)\n",
            "Requirement already satisfied: nvidia-cufft-cu12==11.0.2.54 in /usr/local/lib/python3.10/dist-packages (from torch>=1.10.0->torchmetrics) (11.0.2.54)\n",
            "Requirement already satisfied: nvidia-curand-cu12==10.3.2.106 in /usr/local/lib/python3.10/dist-packages (from torch>=1.10.0->torchmetrics) (10.3.2.106)\n",
            "Requirement already satisfied: nvidia-cusolver-cu12==11.4.5.107 in /usr/local/lib/python3.10/dist-packages (from torch>=1.10.0->torchmetrics) (11.4.5.107)\n",
            "Requirement already satisfied: nvidia-cusparse-cu12==12.1.0.106 in /usr/local/lib/python3.10/dist-packages (from torch>=1.10.0->torchmetrics) (12.1.0.106)\n",
            "Requirement already satisfied: nvidia-nccl-cu12==2.19.3 in /usr/local/lib/python3.10/dist-packages (from torch>=1.10.0->torchmetrics) (2.19.3)\n",
            "Requirement already satisfied: nvidia-nvtx-cu12==12.1.105 in /usr/local/lib/python3.10/dist-packages (from torch>=1.10.0->torchmetrics) (12.1.105)\n",
            "Requirement already satisfied: triton==2.2.0 in /usr/local/lib/python3.10/dist-packages (from torch>=1.10.0->torchmetrics) (2.2.0)\n",
            "Requirement already satisfied: nvidia-nvjitlink-cu12 in /usr/local/lib/python3.10/dist-packages (from nvidia-cusolver-cu12==11.4.5.107->torch>=1.10.0->torchmetrics) (12.4.127)\n",
            "Requirement already satisfied: MarkupSafe>=2.0 in /usr/local/lib/python3.10/dist-packages (from jinja2->torch>=1.10.0->torchmetrics) (2.1.5)\n",
            "Requirement already satisfied: mpmath>=0.19 in /usr/local/lib/python3.10/dist-packages (from sympy->torch>=1.10.0->torchmetrics) (1.3.0)\n"
          ]
        }
      ],
      "source": [
        "pip install torchmetrics"
      ]
    },
    {
      "cell_type": "code",
      "execution_count": null,
      "metadata": {
        "colab": {
          "base_uri": "https://localhost:8080/"
        },
        "id": "bMJKUn2hxonQ",
        "outputId": "a3958ea5-94cf-4833-a796-47799619b298"
      },
      "outputs": [
        {
          "output_type": "stream",
          "name": "stdout",
          "text": [
            "Requirement already satisfied: wget in /usr/local/lib/python3.10/dist-packages (3.2)\n"
          ]
        }
      ],
      "source": [
        "pip install wget"
      ]
    },
    {
      "cell_type": "code",
      "execution_count": null,
      "metadata": {
        "id": "DLt6m5-rxQmy"
      },
      "outputs": [],
      "source": [
        "import numpy as np\n",
        "import pandas as pd\n",
        "import os\n",
        "import wget\n",
        "import matplotlib.pyplot as plt\n",
        "from PIL import Image\n",
        "from mlxtend.plotting import plot_confusion_matrix\n",
        "\n",
        "from timeit import default_timer as timer\n",
        "from tqdm.notebook import tqdm\n",
        "from typing import Tuple, List, Dict\n",
        "\n",
        "import random\n",
        "import pathlib\n",
        "import splitfolders\n",
        "\n",
        "import torch\n",
        "import torchvision\n",
        "import torch.nn as nn\n",
        "\n",
        "from torchinfo import summary\n",
        "\n",
        "from torchvision import transforms, datasets\n",
        "from torch.utils.data import Dataset, DataLoader\n",
        "from torchvision.utils import make_grid\n",
        "\n",
        "\n",
        "from torchmetrics import ConfusionMatrix\n",
        "from sklearn.metrics import classification_report"
      ]
    },
    {
      "cell_type": "code",
      "execution_count": null,
      "metadata": {
        "id": "Jxgff5TkyOLx"
      },
      "outputs": [],
      "source": [
        "SEED = 100\n",
        "BATCH_SIZE = 64\n",
        "N_WORKERS = os.cpu_count()\n",
        "\n",
        "np.random.seed(SEED)\n",
        "torch.manual_seed(SEED)\n",
        "torch.cuda.manual_seed(SEED)"
      ]
    },
    {
      "cell_type": "code",
      "execution_count": null,
      "metadata": {
        "id": "-gS08GzfzGtH"
      },
      "outputs": [],
      "source": [
        "if os.path.isdir('data/') == False:\n",
        "    os.mkdir('data/')"
      ]
    },
    {
      "cell_type": "code",
      "execution_count": null,
      "metadata": {
        "id": "VkzqtkKpzHIm"
      },
      "outputs": [],
      "source": [
        "path_data ='data/petfaces'"
      ]
    },
    {
      "cell_type": "code",
      "execution_count": null,
      "metadata": {
        "id": "9qmDUQvTzL6D"
      },
      "outputs": [],
      "source": [
        "if os.path.isdir(path_data) == False:\n",
        "    os.chdir('data/')\n",
        "\n",
        "    wget.download('http://www.soshnikov.com/permanent/data/petfaces.tar.gz')\n",
        "\n",
        "    !tar xfz petfaces.tar.gz\n",
        "    os.remove('petfaces.tar.gz')\n",
        "\n",
        "    os.chdir('..')"
      ]
    },
    {
      "cell_type": "code",
      "execution_count": null,
      "metadata": {
        "id": "zTekP7aJ0Sau"
      },
      "outputs": [],
      "source": [
        "SIZE = 64\n",
        "BATCH_SIZE = 16\n",
        "N_WORKERS = os.cpu_count()\n",
        "SAMPLE_SIZE = 100"
      ]
    },
    {
      "cell_type": "code",
      "execution_count": null,
      "metadata": {
        "id": "Wyfjk7eU0YIT"
      },
      "outputs": [],
      "source": [
        "data_transforms = transforms.Compose([\n",
        "    transforms.Resize((64, 64)),\n",
        "    transforms.ToTensor(),\n",
        "])"
      ]
    },
    {
      "cell_type": "code",
      "execution_count": null,
      "metadata": {
        "id": "xm3T0BX602So"
      },
      "outputs": [],
      "source": [
        "def plot_transformed_images(transforms: torchvision.transforms.transforms.Compose,\n",
        "                            n_images: int,\n",
        "                            target_dir: str,\n",
        "                            seed: int = None,\n",
        "                            depth: str = '*/*/*') -> None:\n",
        "\n",
        "    font_s = 12\n",
        "    random.seed(seed)\n",
        "\n",
        "    image_paths = list(pathlib.Path(target_dir).glob(f'{depth}.jpg'))\n",
        "    image_random = random.sample(image_paths, k=n_images)\n",
        "\n",
        "    for image in image_random:\n",
        "        with Image.open(image) as file:\n",
        "            fig, ax = plt.subplots(1, 2)\n",
        "            ax[0].imshow(file)\n",
        "            ax[0].set_title(f'Исходный: \\n{np.array(file).shape}')\n",
        "            ax[0].axis('off')\n",
        "            image_transformed = transforms(file).permute(1, 2, 0)\n",
        "            ax[1].imshow(image_transformed)\n",
        "            ax[1].set_title(f'Трансформированный: \\n{image_transformed.numpy().shape}')\n",
        "            ax[1].axis('off')\n",
        "\n",
        "        fig.suptitle(f'Класс {image.parent.stem}', fontsize=font_s+4)"
      ]
    },
    {
      "cell_type": "code",
      "execution_count": null,
      "metadata": {
        "id": "bJ_hwkiH05zp"
      },
      "outputs": [],
      "source": [
        "train_data = datasets.ImageFolder(\n",
        "    root=path_data,\n",
        "    transform=data_transforms\n",
        ")"
      ]
    },
    {
      "cell_type": "code",
      "execution_count": null,
      "metadata": {
        "id": "Yvrf87et1RzZ"
      },
      "outputs": [],
      "source": [
        "train_dataloader = DataLoader(\n",
        "    dataset=train_data,\n",
        "    batch_size=BATCH_SIZE,\n",
        "    num_workers=N_WORKERS,\n",
        "    shuffle=True,\n",
        "    drop_last=True\n",
        ")"
      ]
    },
    {
      "cell_type": "code",
      "execution_count": null,
      "metadata": {
        "id": "bwPwSCtQ1TVb"
      },
      "outputs": [],
      "source": [
        "class Generator(nn.Module):\n",
        "    def __init__(self, sample_size: int) -> None:\n",
        "        super(Generator, self).__init__()\n",
        "\n",
        "        self.conv1 = nn.Sequential(\n",
        "            nn.ConvTranspose2d(sample_size, 512, kernel_size=4, stride=1, padding=0, bias=False),\n",
        "            nn.BatchNorm2d(512),\n",
        "            nn.ReLU(True)\n",
        "        )\n",
        "\n",
        "        self.conv2 = nn.Sequential(\n",
        "            nn.ConvTranspose2d(512, 256, kernel_size=4, stride=2, padding=1, bias=False),\n",
        "            nn.BatchNorm2d(256),\n",
        "            nn.ReLU(True)\n",
        "        )\n",
        "\n",
        "        self.conv3 = nn.Sequential(\n",
        "            nn.ConvTranspose2d(256, 128, kernel_size=4, stride=2, padding=1, bias=False),\n",
        "            nn.BatchNorm2d(128),\n",
        "            nn.ReLU(True)\n",
        "        )\n",
        "\n",
        "        self.conv4 = nn.Sequential(\n",
        "            nn.ConvTranspose2d(128, 64, kernel_size=4, stride=2, padding=1, bias=False),\n",
        "            nn.BatchNorm2d(64),\n",
        "            nn.ReLU(True)\n",
        "        )\n",
        "\n",
        "        self.conv5 = nn.Sequential(\n",
        "            nn.ConvTranspose2d(64, 3, kernel_size=4, stride=2, padding=1, bias=False),\n",
        "            nn.Tanh()\n",
        "        )\n",
        "\n",
        "    def forward(self, z: torch.Tensor) -> torch.Tensor:\n",
        "        x = self.conv1(z)\n",
        "        x = self.conv2(x)\n",
        "        x = self.conv3(x)\n",
        "        x = self.conv4(x)\n",
        "        x = self.conv5(x)\n",
        "\n",
        "        return x"
      ]
    },
    {
      "cell_type": "code",
      "execution_count": null,
      "metadata": {
        "id": "7UkMteSC1kRD"
      },
      "outputs": [],
      "source": [
        "def weights_init(m):\n",
        "    classname = m.__class__.__name__\n",
        "\n",
        "    if classname.find('Conv') != -1:\n",
        "        nn.init.normal_(m.weight.data, 0.0, 0.02)\n",
        "\n",
        "    elif classname.find('BatchNorm') != -1:\n",
        "        nn.init.normal_(m.weight.data, 1.0, 0.02)\n",
        "        nn.init.constant_(m.bias.data, 0)"
      ]
    },
    {
      "cell_type": "code",
      "execution_count": null,
      "metadata": {
        "colab": {
          "base_uri": "https://localhost:8080/"
        },
        "id": "zloFlzuv1dKA",
        "outputId": "8d5dbad0-8c3b-4a72-8ac1-d7369bed569a"
      },
      "outputs": [
        {
          "output_type": "stream",
          "name": "stdout",
          "text": [
            "cuda\n"
          ]
        }
      ],
      "source": [
        "device = torch.device('cuda' if torch.cuda.is_available() else 'cpu')\n",
        "\n",
        "print(device)"
      ]
    },
    {
      "cell_type": "code",
      "execution_count": null,
      "metadata": {
        "id": "jBNiodpG1Wzl"
      },
      "outputs": [],
      "source": [
        "generator = Generator(SAMPLE_SIZE).apply(weights_init).to(device)"
      ]
    },
    {
      "cell_type": "code",
      "execution_count": null,
      "metadata": {
        "id": "b9ozL1Gd19DO"
      },
      "outputs": [],
      "source": [
        "class Discriminator(nn.Module):\n",
        "    def __init__(self) -> None:\n",
        "        super(Discriminator, self).__init__()\n",
        "\n",
        "        self.conv1 = nn.Sequential(\n",
        "            nn.Conv2d(3, 64, kernel_size=4, stride=2, padding=1, bias=False),\n",
        "            nn.LeakyReLU(0.2, inplace=True)\n",
        "        )\n",
        "\n",
        "        self.conv2 = nn.Sequential(\n",
        "            nn.Conv2d(64, 128, kernel_size=4, stride=2, padding=1, bias=False),\n",
        "            nn.BatchNorm2d(128),\n",
        "            nn.LeakyReLU(0.2, inplace=True)\n",
        "        )\n",
        "\n",
        "        self.conv3 = nn.Sequential(\n",
        "            nn.Conv2d(128, 256, kernel_size=4, stride=2, padding=1, bias=False),\n",
        "            nn.BatchNorm2d(256),\n",
        "            nn.LeakyReLU(0.2, inplace=True)\n",
        "        )\n",
        "\n",
        "        self.conv4 = nn.Sequential(\n",
        "            nn.Conv2d(256, 512, kernel_size=4, stride=2, padding=1, bias=False),\n",
        "            nn.BatchNorm2d(512),\n",
        "            nn.LeakyReLU(0.2, inplace=True)\n",
        "        )\n",
        "\n",
        "        self.conv5 = nn.Sequential(\n",
        "            nn.Conv2d(512, 1, kernel_size=4, stride=1, padding=0, bias=False),\n",
        "            nn.Sigmoid()\n",
        "        )\n",
        "\n",
        "    def forward(self, z: torch.Tensor) -> torch.Tensor:\n",
        "        x = self.conv1(z)\n",
        "        x = self.conv2(x)\n",
        "        x = self.conv3(x)\n",
        "        x = self.conv4(x)\n",
        "        x = self.conv5(x)\n",
        "\n",
        "        return x"
      ]
    },
    {
      "cell_type": "code",
      "execution_count": null,
      "metadata": {
        "id": "0zaOjsN52D8s"
      },
      "outputs": [],
      "source": [
        "discriminator = Discriminator().apply(weights_init).to(device)"
      ]
    },
    {
      "cell_type": "code",
      "execution_count": null,
      "metadata": {
        "id": "V6Y9YXUL6RPj"
      },
      "outputs": [],
      "source": [
        "class GAN:\n",
        "\n",
        "    def __init__(self, generator, discriminator, sample_size: int, device: str = device) -> None:\n",
        "        self.generator = generator\n",
        "        self.discriminator = discriminator\n",
        "        self.sample_size = sample_size\n",
        "        self.device = device\n",
        "\n",
        "        self.fixed_noise = torch.randn(16, self.sample_size, 1, 1, device=self.device)\n",
        "\n",
        "        self.real_label = 1.\n",
        "        self.fake_label = 0.\n",
        "\n",
        "\n",
        "    def train(self,\n",
        "              n_epochs: int,\n",
        "              dataloader: torch.utils.data.dataloader.DataLoader,\n",
        "              criterion: torch.nn.modules.loss,\n",
        "              optim_gen: torch.optim,\n",
        "              optim_dis: torch.optim,\n",
        "              img_title: str) -> None:\n",
        "\n",
        "        self.img_title = img_title\n",
        "        self.__criterion = criterion\n",
        "        self.__optim_gen = optim_gen\n",
        "        self.__optim_dis = optim_dis\n",
        "\n",
        "        self.images = []\n",
        "        self.loss_generator = []\n",
        "        self.loss_discriminator = []\n",
        "\n",
        "\n",
        "        for epoch in tqdm(range(n_epochs), 'Training process'):\n",
        "            for i, data in enumerate(dataloader, 0):\n",
        "\n",
        "                pred_dis, pred_gen_before, loss_dis = self.train_discriminator(data)\n",
        "                loss_gen, pred_gen_after = self.train_generator()\n",
        "\n",
        "                self.loss_generator.append(loss_gen)\n",
        "                self.loss_discriminator.append(loss_dis)\n",
        "\n",
        "                if i == 0 or i % 200 == 0 or i == len(dataloader) - 1:\n",
        "                    self.print_iter(epoch, n_epochs, i, len(dataloader) - 1,\n",
        "                                    loss_dis, loss_gen, pred_dis, pred_gen_before, pred_gen_after)\n",
        "\n",
        "                self.generator.eval()\n",
        "                with torch.no_grad():\n",
        "                    fake_images = self.generator(self.fixed_noise).cpu()\n",
        "\n",
        "\n",
        "\n",
        "\n",
        "\n",
        "\n",
        "    def print_iter(self, *args):\n",
        "        print('[%d/%d][%d/%d]\\tLoss Dis: %.4f\\tLoss Gen: %.4f\\tPred Dis: %.4f\\tPred Gen: %.4f / %.4f'\n",
        "              % (args))\n",
        "\n",
        "\n",
        "    def train_discriminator(self, data: list) -> Tuple[float, float, float]:\n",
        "        self.discriminator.zero_grad()\n",
        "\n",
        "        real_images = data[0].to(self.device)\n",
        "        b_size = real_images.size(0)\n",
        "        self.__label = torch.full((b_size,), self.real_label, dtype=torch.float, device=self.device)\n",
        "\n",
        "\n",
        "        pred_real = self.discriminator(real_images).view(-1)\n",
        "        loss_real = self.__criterion(pred_real, self.__label)\n",
        "\n",
        "\n",
        "        loss_real.backward()\n",
        "        pred_dis = pred_real.mean().item()\n",
        "\n",
        "        noise = torch.randn(b_size, self.sample_size, 1, 1, device=self.device)\n",
        "        self.__fake_images = self.generator(noise)\n",
        "        self.__label.fill_(self.fake_label)\n",
        "\n",
        "\n",
        "        pred_fake = self.discriminator(self.__fake_images.detach()).view(-1)\n",
        "        loss_fake = self.__criterion(pred_fake, self.__label)\n",
        "\n",
        "\n",
        "        loss_fake.backward()\n",
        "        pred_gen_before = pred_fake.mean().item()\n",
        "\n",
        "        loss = loss_real + loss_fake\n",
        "        self.__optim_dis.step()\n",
        "\n",
        "        return pred_dis, pred_gen_before, loss.item()\n",
        "\n",
        "\n",
        "    def train_generator(self) -> Tuple[float, float]:\n",
        "        self.generator.zero_grad()\n",
        "\n",
        "        self.__label.fill_(self.real_label)\n",
        "\n",
        "\n",
        "        pred = self.discriminator(self.__fake_images).view(-1)\n",
        "        loss = self.__criterion(pred, self.__label)\n",
        "\n",
        "        loss.backward()\n",
        "        pred_gen_after = pred.mean().item()\n",
        "\n",
        "        self.__optim_gen.step()\n",
        "\n",
        "        return loss.item(), pred_gen_after\n"
      ]
    },
    {
      "cell_type": "code",
      "execution_count": null,
      "metadata": {
        "id": "exBhjO2C2ZOr"
      },
      "outputs": [],
      "source": [
        "N_EPOCHS = 100\n",
        "CRITERION = nn.BCELoss()\n",
        "\n",
        "LEARN_R = 2e-4\n",
        "BETAS = (0.5, 0.999)\n",
        "\n",
        "OPTIM_DIS = torch.optim.Adam(discriminator.parameters(), lr=LEARN_R, betas=BETAS)\n",
        "OPTIM_GEN = torch.optim.Adam(generator.parameters(), lr=LEARN_R, betas=BETAS)"
      ]
    },
    {
      "cell_type": "code",
      "execution_count": null,
      "metadata": {
        "id": "WxSJDmre2g56"
      },
      "outputs": [],
      "source": [
        "gan_64 = GAN(generator, discriminator, SAMPLE_SIZE)"
      ]
    },
    {
      "cell_type": "code",
      "execution_count": null,
      "metadata": {
        "colab": {
          "base_uri": "https://localhost:8080/",
          "height": 1000,
          "referenced_widgets": [
            "476519a785cc4f7689e6f7e14f492816",
            "2bb8bb13eb314c0e81c4ea681ef0f5f2",
            "270784b0c65e4de2ac5b4c83e3bb4be2",
            "bb475d372c0b4c7a800a1f1601b319eb",
            "efe4604053f14165a6648ea4982694e9",
            "9ab4cd63e8cc46b2a701993fcef6f69f",
            "ff21e906f06742e0b666e437da9cf035",
            "182d141d04674293be597885e757868a",
            "bcf4d039f3c8485b9bd46361dc8d524d",
            "22f7e9be2d9c4f828da8ed702250f3a2",
            "ac5191570a4c4e62894f932ec838e362"
          ]
        },
        "id": "Tio_NZ8-2pCN",
        "outputId": "7510cc6b-6388-4247-e6a2-7ec8c0ca5984"
      },
      "outputs": [
        {
          "output_type": "display_data",
          "data": {
            "text/plain": [
              "Training process:   0%|          | 0/100 [00:00<?, ?it/s]"
            ],
            "application/vnd.jupyter.widget-view+json": {
              "version_major": 2,
              "version_minor": 0,
              "model_id": "476519a785cc4f7689e6f7e14f492816"
            }
          },
          "metadata": {}
        },
        {
          "output_type": "stream",
          "name": "stderr",
          "text": [
            "/usr/lib/python3.10/multiprocessing/popen_fork.py:66: RuntimeWarning: os.fork() was called. os.fork() is incompatible with multithreaded code, and JAX is multithreaded, so this will likely lead to a deadlock.\n",
            "  self.pid = os.fork()\n"
          ]
        },
        {
          "output_type": "stream",
          "name": "stdout",
          "text": [
            "[0/100][0/199]\tLoss Dis: 1.8754\tLoss Gen: 8.0383\tPred Dis: 0.6865\tPred Gen: 0.6843 / 0.0005\n"
          ]
        },
        {
          "output_type": "stream",
          "name": "stderr",
          "text": [
            "/usr/lib/python3.10/multiprocessing/popen_fork.py:66: RuntimeWarning: os.fork() was called. os.fork() is incompatible with multithreaded code, and JAX is multithreaded, so this will likely lead to a deadlock.\n",
            "  self.pid = os.fork()\n"
          ]
        },
        {
          "output_type": "stream",
          "name": "stdout",
          "text": [
            "[0/100][199/199]\tLoss Dis: 0.0018\tLoss Gen: 39.9960\tPred Dis: 0.9982\tPred Gen: 0.0000 / 0.0000\n",
            "[1/100][0/199]\tLoss Dis: 0.0000\tLoss Gen: 39.5310\tPred Dis: 1.0000\tPred Gen: 0.0000 / 0.0000\n",
            "[1/100][199/199]\tLoss Dis: 0.0000\tLoss Gen: 38.6203\tPred Dis: 1.0000\tPred Gen: 0.0000 / 0.0000\n",
            "[2/100][0/199]\tLoss Dis: 0.0000\tLoss Gen: 39.1109\tPred Dis: 1.0000\tPred Gen: 0.0000 / 0.0000\n",
            "[2/100][199/199]\tLoss Dis: 0.3300\tLoss Gen: 3.0970\tPred Dis: 0.7941\tPred Gen: 0.0605 / 0.0639\n",
            "[3/100][0/199]\tLoss Dis: 0.2549\tLoss Gen: 2.7777\tPred Dis: 0.8718\tPred Gen: 0.0924 / 0.0872\n",
            "[3/100][199/199]\tLoss Dis: 0.4527\tLoss Gen: 4.5145\tPred Dis: 0.7097\tPred Gen: 0.0347 / 0.0275\n",
            "[4/100][0/199]\tLoss Dis: 0.3650\tLoss Gen: 3.0340\tPred Dis: 0.7807\tPred Gen: 0.0632 / 0.0674\n",
            "[4/100][199/199]\tLoss Dis: 1.2069\tLoss Gen: 2.7543\tPred Dis: 0.5177\tPred Gen: 0.1425 / 0.0939\n",
            "[5/100][0/199]\tLoss Dis: 0.1564\tLoss Gen: 3.9070\tPred Dis: 0.9699\tPred Gen: 0.1122 / 0.0349\n",
            "[5/100][199/199]\tLoss Dis: 0.4915\tLoss Gen: 3.0232\tPred Dis: 0.7885\tPred Gen: 0.1571 / 0.0812\n",
            "[6/100][0/199]\tLoss Dis: 0.4247\tLoss Gen: 3.6522\tPred Dis: 0.8510\tPred Gen: 0.1889 / 0.0318\n",
            "[6/100][199/199]\tLoss Dis: 0.6567\tLoss Gen: 3.7189\tPred Dis: 0.8658\tPred Gen: 0.3581 / 0.0356\n",
            "[7/100][0/199]\tLoss Dis: 0.5017\tLoss Gen: 3.9475\tPred Dis: 0.7758\tPred Gen: 0.1701 / 0.0276\n",
            "[7/100][199/199]\tLoss Dis: 0.8126\tLoss Gen: 4.5898\tPred Dis: 0.9405\tPred Gen: 0.4185 / 0.0158\n",
            "[8/100][0/199]\tLoss Dis: 0.5528\tLoss Gen: 3.6191\tPred Dis: 0.6900\tPred Gen: 0.0813 / 0.0683\n",
            "[8/100][199/199]\tLoss Dis: 0.4657\tLoss Gen: 3.9154\tPred Dis: 0.7808\tPred Gen: 0.1296 / 0.0428\n",
            "[9/100][0/199]\tLoss Dis: 1.1568\tLoss Gen: 3.0343\tPred Dis: 0.6882\tPred Gen: 0.2532 / 0.0708\n",
            "[9/100][199/199]\tLoss Dis: 0.5816\tLoss Gen: 3.3662\tPred Dis: 0.7142\tPred Gen: 0.1345 / 0.0562\n",
            "[10/100][0/199]\tLoss Dis: 0.3136\tLoss Gen: 4.2022\tPred Dis: 0.9383\tPred Gen: 0.1868 / 0.0216\n",
            "[10/100][199/199]\tLoss Dis: 0.4358\tLoss Gen: 3.1452\tPred Dis: 0.7845\tPred Gen: 0.0844 / 0.0677\n",
            "[11/100][0/199]\tLoss Dis: 0.3852\tLoss Gen: 4.8727\tPred Dis: 0.9557\tPred Gen: 0.2704 / 0.0094\n",
            "[11/100][199/199]\tLoss Dis: 0.7526\tLoss Gen: 4.2401\tPred Dis: 0.8305\tPred Gen: 0.2833 / 0.0209\n",
            "[12/100][0/199]\tLoss Dis: 0.9720\tLoss Gen: 1.9772\tPred Dis: 0.5125\tPred Gen: 0.0421 / 0.2100\n",
            "[12/100][199/199]\tLoss Dis: 0.3408\tLoss Gen: 3.6471\tPred Dis: 0.9120\tPred Gen: 0.1773 / 0.0449\n",
            "[13/100][0/199]\tLoss Dis: 0.2988\tLoss Gen: 3.7374\tPred Dis: 0.8627\tPred Gen: 0.1179 / 0.0347\n",
            "[13/100][199/199]\tLoss Dis: 0.4010\tLoss Gen: 3.0384\tPred Dis: 0.8204\tPred Gen: 0.1336 / 0.0948\n",
            "[14/100][0/199]\tLoss Dis: 0.5855\tLoss Gen: 5.3520\tPred Dis: 0.9086\tPred Gen: 0.2611 / 0.0071\n",
            "[14/100][199/199]\tLoss Dis: 0.3382\tLoss Gen: 3.5934\tPred Dis: 0.9264\tPred Gen: 0.1838 / 0.0475\n",
            "[15/100][0/199]\tLoss Dis: 0.5370\tLoss Gen: 4.1734\tPred Dis: 0.8998\tPred Gen: 0.2809 / 0.0286\n",
            "[15/100][199/199]\tLoss Dis: 0.3230\tLoss Gen: 3.2131\tPred Dis: 0.8254\tPred Gen: 0.0745 / 0.0673\n",
            "[16/100][0/199]\tLoss Dis: 0.4427\tLoss Gen: 5.1288\tPred Dis: 0.9095\tPred Gen: 0.2499 / 0.0076\n",
            "[16/100][199/199]\tLoss Dis: 0.2318\tLoss Gen: 4.8548\tPred Dis: 0.9377\tPred Gen: 0.1331 / 0.0127\n",
            "[17/100][0/199]\tLoss Dis: 0.3748\tLoss Gen: 5.8363\tPred Dis: 0.9291\tPred Gen: 0.1971 / 0.0056\n",
            "[17/100][199/199]\tLoss Dis: 0.3602\tLoss Gen: 4.7189\tPred Dis: 0.9385\tPred Gen: 0.2027 / 0.0150\n",
            "[18/100][0/199]\tLoss Dis: 0.0880\tLoss Gen: 4.9572\tPred Dis: 0.9608\tPred Gen: 0.0418 / 0.0149\n",
            "[18/100][199/199]\tLoss Dis: 0.7983\tLoss Gen: 7.7498\tPred Dis: 0.9771\tPred Gen: 0.4389 / 0.0007\n",
            "[19/100][0/199]\tLoss Dis: 0.3161\tLoss Gen: 5.9731\tPred Dis: 0.7810\tPred Gen: 0.0196 / 0.0062\n",
            "[19/100][199/199]\tLoss Dis: 0.1552\tLoss Gen: 4.2445\tPred Dis: 0.9466\tPred Gen: 0.0880 / 0.0219\n",
            "[20/100][0/199]\tLoss Dis: 0.1960\tLoss Gen: 4.6210\tPred Dis: 0.9444\tPred Gen: 0.1055 / 0.0166\n",
            "[20/100][199/199]\tLoss Dis: 0.6328\tLoss Gen: 5.0035\tPred Dis: 0.6286\tPred Gen: 0.0228 / 0.0501\n",
            "[21/100][0/199]\tLoss Dis: 0.3172\tLoss Gen: 2.7352\tPred Dis: 0.8591\tPred Gen: 0.1141 / 0.0931\n",
            "[21/100][199/199]\tLoss Dis: 0.2994\tLoss Gen: 5.1947\tPred Dis: 0.9235\tPred Gen: 0.1472 / 0.0115\n",
            "[22/100][0/199]\tLoss Dis: 0.3744\tLoss Gen: 4.2720\tPred Dis: 0.8132\tPred Gen: 0.0951 / 0.0215\n",
            "[22/100][199/199]\tLoss Dis: 0.4257\tLoss Gen: 6.3910\tPred Dis: 0.9380\tPred Gen: 0.2325 / 0.0030\n",
            "[23/100][0/199]\tLoss Dis: 0.3455\tLoss Gen: 5.2880\tPred Dis: 0.7794\tPred Gen: 0.0225 / 0.0300\n",
            "[23/100][199/199]\tLoss Dis: 0.6868\tLoss Gen: 5.9253\tPred Dis: 0.9064\tPred Gen: 0.3848 / 0.0053\n",
            "[24/100][0/199]\tLoss Dis: 0.2064\tLoss Gen: 5.9546\tPred Dis: 0.9449\tPred Gen: 0.1189 / 0.0051\n",
            "[24/100][199/199]\tLoss Dis: 0.5682\tLoss Gen: 3.2656\tPred Dis: 0.7052\tPred Gen: 0.0589 / 0.0832\n",
            "[25/100][0/199]\tLoss Dis: 0.2998\tLoss Gen: 4.5322\tPred Dis: 0.9544\tPred Gen: 0.1823 / 0.0221\n",
            "[25/100][199/199]\tLoss Dis: 0.3590\tLoss Gen: 4.8734\tPred Dis: 0.8886\tPred Gen: 0.1236 / 0.0145\n",
            "[26/100][0/199]\tLoss Dis: 0.3542\tLoss Gen: 4.3483\tPred Dis: 0.8756\tPred Gen: 0.1304 / 0.0243\n",
            "[26/100][199/199]\tLoss Dis: 0.5850\tLoss Gen: 7.3760\tPred Dis: 0.9220\tPred Gen: 0.2829 / 0.0009\n",
            "[27/100][0/199]\tLoss Dis: 0.9981\tLoss Gen: 2.2194\tPred Dis: 0.4766\tPred Gen: 0.0043 / 0.2203\n",
            "[27/100][199/199]\tLoss Dis: 0.7667\tLoss Gen: 5.6170\tPred Dis: 0.9857\tPred Gen: 0.3841 / 0.0082\n",
            "[28/100][0/199]\tLoss Dis: 0.2930\tLoss Gen: 4.4949\tPred Dis: 0.8353\tPred Gen: 0.0671 / 0.0184\n",
            "[28/100][199/199]\tLoss Dis: 0.7254\tLoss Gen: 2.1101\tPred Dis: 0.6279\tPred Gen: 0.1248 / 0.2007\n",
            "[29/100][0/199]\tLoss Dis: 0.6663\tLoss Gen: 5.5504\tPred Dis: 0.9649\tPred Gen: 0.4075 / 0.0072\n",
            "[29/100][199/199]\tLoss Dis: 0.2445\tLoss Gen: 3.5341\tPred Dis: 0.8538\tPred Gen: 0.0544 / 0.0472\n",
            "[30/100][0/199]\tLoss Dis: 0.4038\tLoss Gen: 3.7642\tPred Dis: 0.8568\tPred Gen: 0.1208 / 0.0386\n",
            "[30/100][199/199]\tLoss Dis: 0.6758\tLoss Gen: 4.4944\tPred Dis: 0.8630\tPred Gen: 0.2029 / 0.0281\n",
            "[31/100][0/199]\tLoss Dis: 0.3196\tLoss Gen: 4.4507\tPred Dis: 0.8827\tPred Gen: 0.1264 / 0.0236\n",
            "[31/100][199/199]\tLoss Dis: 0.2569\tLoss Gen: 5.6239\tPred Dis: 0.8860\tPred Gen: 0.0965 / 0.0091\n",
            "[32/100][0/199]\tLoss Dis: 0.6833\tLoss Gen: 2.1261\tPred Dis: 0.7274\tPred Gen: 0.0885 / 0.1798\n",
            "[32/100][199/199]\tLoss Dis: 0.5116\tLoss Gen: 2.6475\tPred Dis: 0.7576\tPred Gen: 0.1224 / 0.1083\n",
            "[33/100][0/199]\tLoss Dis: 0.5320\tLoss Gen: 3.3678\tPred Dis: 0.8180\tPred Gen: 0.1725 / 0.0610\n",
            "[33/100][199/199]\tLoss Dis: 0.2510\tLoss Gen: 3.9662\tPred Dis: 0.9114\tPred Gen: 0.1272 / 0.0377\n",
            "[34/100][0/199]\tLoss Dis: 0.8928\tLoss Gen: 7.4580\tPred Dis: 0.8769\tPred Gen: 0.3909 / 0.0009\n",
            "[34/100][199/199]\tLoss Dis: 0.2443\tLoss Gen: 4.8651\tPred Dis: 0.8405\tPred Gen: 0.0329 / 0.0204\n",
            "[35/100][0/199]\tLoss Dis: 0.1159\tLoss Gen: 4.4257\tPred Dis: 0.9519\tPred Gen: 0.0520 / 0.0218\n",
            "[35/100][199/199]\tLoss Dis: 0.1920\tLoss Gen: 3.9760\tPred Dis: 0.9032\tPred Gen: 0.0609 / 0.0383\n",
            "[36/100][0/199]\tLoss Dis: 0.1152\tLoss Gen: 4.7482\tPred Dis: 0.9724\tPred Gen: 0.0756 / 0.0197\n",
            "[36/100][199/199]\tLoss Dis: 0.3990\tLoss Gen: 5.8783\tPred Dis: 0.9532\tPred Gen: 0.2430 / 0.0056\n",
            "[37/100][0/199]\tLoss Dis: 0.2476\tLoss Gen: 4.8841\tPred Dis: 0.8546\tPred Gen: 0.0620 / 0.0219\n",
            "[37/100][199/199]\tLoss Dis: 0.1904\tLoss Gen: 4.3148\tPred Dis: 0.9337\tPred Gen: 0.0930 / 0.0247\n",
            "[38/100][0/199]\tLoss Dis: 0.1453\tLoss Gen: 5.0554\tPred Dis: 0.9506\tPred Gen: 0.0720 / 0.0141\n",
            "[38/100][199/199]\tLoss Dis: 0.2855\tLoss Gen: 4.1084\tPred Dis: 0.8965\tPred Gen: 0.1233 / 0.0258\n",
            "[39/100][0/199]\tLoss Dis: 0.3396\tLoss Gen: 4.7904\tPred Dis: 0.8986\tPred Gen: 0.1574 / 0.0122\n",
            "[39/100][199/199]\tLoss Dis: 0.3575\tLoss Gen: 4.6669\tPred Dis: 0.8044\tPred Gen: 0.0663 / 0.0136\n",
            "[40/100][0/199]\tLoss Dis: 0.3273\tLoss Gen: 4.4952\tPred Dis: 0.8392\tPred Gen: 0.0992 / 0.0239\n",
            "[40/100][199/199]\tLoss Dis: 0.2095\tLoss Gen: 4.8072\tPred Dis: 0.9197\tPred Gen: 0.0772 / 0.0214\n",
            "[41/100][0/199]\tLoss Dis: 0.3530\tLoss Gen: 6.1682\tPred Dis: 0.9850\tPred Gen: 0.2194 / 0.0028\n",
            "[41/100][199/199]\tLoss Dis: 0.1331\tLoss Gen: 5.3424\tPred Dis: 0.9475\tPred Gen: 0.0653 / 0.0119\n",
            "[42/100][0/199]\tLoss Dis: 0.1146\tLoss Gen: 4.2384\tPred Dis: 0.9388\tPred Gen: 0.0339 / 0.0222\n",
            "[42/100][199/199]\tLoss Dis: 0.2686\tLoss Gen: 5.0339\tPred Dis: 0.8347\tPred Gen: 0.0230 / 0.0152\n",
            "[43/100][0/199]\tLoss Dis: 0.3040\tLoss Gen: 2.8741\tPred Dis: 0.8059\tPred Gen: 0.0367 / 0.1101\n",
            "[43/100][199/199]\tLoss Dis: 0.3243\tLoss Gen: 5.2759\tPred Dis: 0.9400\tPred Gen: 0.1756 / 0.0109\n",
            "[44/100][0/199]\tLoss Dis: 0.5541\tLoss Gen: 6.2582\tPred Dis: 0.8642\tPred Gen: 0.2149 / 0.0041\n",
            "[44/100][199/199]\tLoss Dis: 0.1544\tLoss Gen: 4.6508\tPred Dis: 0.9326\tPred Gen: 0.0712 / 0.0171\n",
            "[45/100][0/199]\tLoss Dis: 0.2705\tLoss Gen: 4.5604\tPred Dis: 0.8483\tPred Gen: 0.0439 / 0.0275\n",
            "[45/100][199/199]\tLoss Dis: 1.2887\tLoss Gen: 10.1965\tPred Dis: 0.9677\tPred Gen: 0.5707 / 0.0001\n",
            "[46/100][0/199]\tLoss Dis: 0.7218\tLoss Gen: 3.5177\tPred Dis: 0.6063\tPred Gen: 0.0219 / 0.0825\n",
            "[46/100][199/199]\tLoss Dis: 0.4236\tLoss Gen: 2.6553\tPred Dis: 0.7719\tPred Gen: 0.0873 / 0.1227\n",
            "[47/100][0/199]\tLoss Dis: 0.5547\tLoss Gen: 6.9171\tPred Dis: 0.9971\tPred Gen: 0.3195 / 0.0017\n",
            "[47/100][199/199]\tLoss Dis: 0.1692\tLoss Gen: 5.1632\tPred Dis: 0.9357\tPred Gen: 0.0727 / 0.0132\n",
            "[48/100][0/199]\tLoss Dis: 0.1200\tLoss Gen: 4.7920\tPred Dis: 0.9474\tPred Gen: 0.0568 / 0.0172\n",
            "[48/100][199/199]\tLoss Dis: 0.2252\tLoss Gen: 5.2334\tPred Dis: 0.9591\tPred Gen: 0.1313 / 0.0081\n",
            "[49/100][0/199]\tLoss Dis: 0.6270\tLoss Gen: 2.8925\tPred Dis: 0.6907\tPred Gen: 0.0183 / 0.0942\n",
            "[49/100][199/199]\tLoss Dis: 0.2272\tLoss Gen: 3.6249\tPred Dis: 0.8604\tPred Gen: 0.0451 / 0.0662\n",
            "[50/100][0/199]\tLoss Dis: 0.3576\tLoss Gen: 5.4293\tPred Dis: 0.9333\tPred Gen: 0.2027 / 0.0091\n",
            "[50/100][199/199]\tLoss Dis: 0.2393\tLoss Gen: 4.5571\tPred Dis: 0.9432\tPred Gen: 0.1402 / 0.0128\n",
            "[51/100][0/199]\tLoss Dis: 0.1954\tLoss Gen: 4.8932\tPred Dis: 0.9311\tPred Gen: 0.0967 / 0.0136\n",
            "[51/100][199/199]\tLoss Dis: 0.5478\tLoss Gen: 6.7552\tPred Dis: 0.9288\tPred Gen: 0.2393 / 0.0028\n",
            "[52/100][0/199]\tLoss Dis: 0.1342\tLoss Gen: 5.5265\tPred Dis: 0.9139\tPred Gen: 0.0365 / 0.0077\n",
            "[52/100][199/199]\tLoss Dis: 0.4401\tLoss Gen: 3.7467\tPred Dis: 0.7744\tPred Gen: 0.0816 / 0.0564\n",
            "[53/100][0/199]\tLoss Dis: 0.1488\tLoss Gen: 4.2905\tPred Dis: 0.9309\tPred Gen: 0.0627 / 0.0321\n",
            "[53/100][199/199]\tLoss Dis: 1.6819\tLoss Gen: 4.8375\tPred Dis: 0.3755\tPred Gen: 0.0005 / 0.0801\n",
            "[54/100][0/199]\tLoss Dis: 0.5075\tLoss Gen: 3.5526\tPred Dis: 0.9158\tPred Gen: 0.2162 / 0.0427\n",
            "[54/100][199/199]\tLoss Dis: 0.4417\tLoss Gen: 2.8223\tPred Dis: 0.7537\tPred Gen: 0.0493 / 0.0887\n",
            "[55/100][0/199]\tLoss Dis: 0.1788\tLoss Gen: 4.7347\tPred Dis: 0.9601\tPred Gen: 0.1092 / 0.0163\n",
            "[55/100][199/199]\tLoss Dis: 0.0939\tLoss Gen: 3.8154\tPred Dis: 0.9365\tPred Gen: 0.0206 / 0.0505\n",
            "[56/100][0/199]\tLoss Dis: 0.8712\tLoss Gen: 8.8224\tPred Dis: 0.9778\tPred Gen: 0.4099 / 0.0004\n",
            "[56/100][199/199]\tLoss Dis: 0.4554\tLoss Gen: 3.7990\tPred Dis: 0.7317\tPred Gen: 0.0076 / 0.0520\n",
            "[57/100][0/199]\tLoss Dis: 0.0855\tLoss Gen: 4.0082\tPred Dis: 0.9881\tPred Gen: 0.0681 / 0.0416\n",
            "[57/100][199/199]\tLoss Dis: 0.6184\tLoss Gen: 8.8318\tPred Dis: 0.9971\tPred Gen: 0.3008 / 0.0008\n",
            "[58/100][0/199]\tLoss Dis: 0.2129\tLoss Gen: 7.3869\tPred Dis: 0.8953\tPred Gen: 0.0511 / 0.0035\n",
            "[58/100][199/199]\tLoss Dis: 0.1164\tLoss Gen: 4.8582\tPred Dis: 0.9395\tPred Gen: 0.0425 / 0.0215\n",
            "[59/100][0/199]\tLoss Dis: 0.5089\tLoss Gen: 4.3305\tPred Dis: 0.8415\tPred Gen: 0.1564 / 0.0233\n",
            "[59/100][199/199]\tLoss Dis: 0.0838\tLoss Gen: 5.0209\tPred Dis: 0.9712\tPred Gen: 0.0499 / 0.0173\n",
            "[60/100][0/199]\tLoss Dis: 0.1772\tLoss Gen: 5.4566\tPred Dis: 0.9637\tPred Gen: 0.0812 / 0.0078\n",
            "[60/100][199/199]\tLoss Dis: 0.2198\tLoss Gen: 5.2393\tPred Dis: 0.9390\tPred Gen: 0.1078 / 0.0097\n",
            "[61/100][0/199]\tLoss Dis: 0.2271\tLoss Gen: 4.3084\tPred Dis: 0.8634\tPred Gen: 0.0351 / 0.0368\n",
            "[61/100][199/199]\tLoss Dis: 0.0479\tLoss Gen: 5.4513\tPred Dis: 0.9874\tPred Gen: 0.0324 / 0.0158\n",
            "[62/100][0/199]\tLoss Dis: 0.1074\tLoss Gen: 4.8737\tPred Dis: 0.9692\tPred Gen: 0.0659 / 0.0118\n",
            "[62/100][199/199]\tLoss Dis: 0.1681\tLoss Gen: 6.5435\tPred Dis: 0.9520\tPred Gen: 0.0896 / 0.0047\n",
            "[63/100][0/199]\tLoss Dis: 0.2080\tLoss Gen: 5.5583\tPred Dis: 0.8619\tPred Gen: 0.0182 / 0.0164\n",
            "[63/100][199/199]\tLoss Dis: 0.1319\tLoss Gen: 5.6472\tPred Dis: 0.9606\tPred Gen: 0.0711 / 0.0123\n",
            "[64/100][0/199]\tLoss Dis: 0.0886\tLoss Gen: 5.9806\tPred Dis: 0.9716\tPred Gen: 0.0524 / 0.0114\n",
            "[64/100][199/199]\tLoss Dis: 0.2678\tLoss Gen: 6.2620\tPred Dis: 0.9966\tPred Gen: 0.1942 / 0.0048\n",
            "[65/100][0/199]\tLoss Dis: 0.2174\tLoss Gen: 7.2749\tPred Dis: 0.9739\tPred Gen: 0.1179 / 0.0018\n",
            "[65/100][199/199]\tLoss Dis: 0.2267\tLoss Gen: 6.1267\tPred Dis: 0.9914\tPred Gen: 0.1694 / 0.0036\n",
            "[66/100][0/199]\tLoss Dis: 0.1176\tLoss Gen: 6.3506\tPred Dis: 0.9642\tPred Gen: 0.0689 / 0.0042\n",
            "[66/100][199/199]\tLoss Dis: 0.2038\tLoss Gen: 5.4026\tPred Dis: 0.9340\tPred Gen: 0.0649 / 0.0103\n",
            "[67/100][0/199]\tLoss Dis: 0.0824\tLoss Gen: 5.8760\tPred Dis: 0.9530\tPred Gen: 0.0290 / 0.0110\n",
            "[67/100][199/199]\tLoss Dis: 0.1299\tLoss Gen: 7.7335\tPred Dis: 0.8999\tPred Gen: 0.0103 / 0.0040\n",
            "[68/100][0/199]\tLoss Dis: 0.2073\tLoss Gen: 4.2620\tPred Dis: 0.8512\tPred Gen: 0.0085 / 0.0313\n",
            "[68/100][199/199]\tLoss Dis: 0.2012\tLoss Gen: 4.9752\tPred Dis: 0.9097\tPred Gen: 0.0511 / 0.0196\n",
            "[69/100][0/199]\tLoss Dis: 0.0808\tLoss Gen: 5.1730\tPred Dis: 0.9638\tPred Gen: 0.0388 / 0.0187\n",
            "[69/100][199/199]\tLoss Dis: 0.2088\tLoss Gen: 7.0901\tPred Dis: 0.9635\tPred Gen: 0.1366 / 0.0024\n",
            "[70/100][0/199]\tLoss Dis: 0.2094\tLoss Gen: 7.6486\tPred Dis: 0.9394\tPred Gen: 0.0930 / 0.0011\n",
            "[70/100][199/199]\tLoss Dis: 0.3301\tLoss Gen: 7.0506\tPred Dis: 0.9648\tPred Gen: 0.1877 / 0.0014\n",
            "[71/100][0/199]\tLoss Dis: 0.2265\tLoss Gen: 6.1030\tPred Dis: 0.8940\tPred Gen: 0.0674 / 0.0085\n",
            "[71/100][199/199]\tLoss Dis: 0.1316\tLoss Gen: 5.5319\tPred Dis: 0.9275\tPred Gen: 0.0469 / 0.0080\n",
            "[72/100][0/199]\tLoss Dis: 0.2902\tLoss Gen: 4.2327\tPred Dis: 0.8331\tPred Gen: 0.0151 / 0.0451\n",
            "[72/100][199/199]\tLoss Dis: 0.0521\tLoss Gen: 5.1508\tPred Dis: 0.9792\tPred Gen: 0.0286 / 0.0122\n",
            "[73/100][0/199]\tLoss Dis: 0.1085\tLoss Gen: 6.4740\tPred Dis: 0.9977\tPred Gen: 0.0923 / 0.0034\n",
            "[73/100][199/199]\tLoss Dis: 0.1105\tLoss Gen: 5.9700\tPred Dis: 0.9696\tPred Gen: 0.0677 / 0.0041\n",
            "[74/100][0/199]\tLoss Dis: 0.0917\tLoss Gen: 5.7008\tPred Dis: 0.9437\tPred Gen: 0.0272 / 0.0076\n",
            "[74/100][199/199]\tLoss Dis: 0.0589\tLoss Gen: 5.6705\tPred Dis: 0.9807\tPred Gen: 0.0366 / 0.0078\n",
            "[75/100][0/199]\tLoss Dis: 0.1287\tLoss Gen: 6.6538\tPred Dis: 0.9840\tPred Gen: 0.0902 / 0.0034\n",
            "[75/100][199/199]\tLoss Dis: 0.0447\tLoss Gen: 6.6280\tPred Dis: 0.9870\tPred Gen: 0.0292 / 0.0048\n",
            "[76/100][0/199]\tLoss Dis: 0.0960\tLoss Gen: 5.3486\tPred Dis: 0.9256\tPred Gen: 0.0141 / 0.0095\n",
            "[76/100][199/199]\tLoss Dis: 0.4281\tLoss Gen: 9.2038\tPred Dis: 0.9505\tPred Gen: 0.2403 / 0.0004\n",
            "[77/100][0/199]\tLoss Dis: 0.5137\tLoss Gen: 4.6049\tPred Dis: 0.7751\tPred Gen: 0.0119 / 0.0538\n",
            "[77/100][199/199]\tLoss Dis: 0.0358\tLoss Gen: 5.8716\tPred Dis: 0.9814\tPred Gen: 0.0164 / 0.0075\n",
            "[78/100][0/199]\tLoss Dis: 0.4948\tLoss Gen: 5.3099\tPred Dis: 0.8316\tPred Gen: 0.0077 / 0.0385\n",
            "[78/100][199/199]\tLoss Dis: 0.2327\tLoss Gen: 6.7691\tPred Dis: 0.9900\tPred Gen: 0.1454 / 0.0017\n",
            "[79/100][0/199]\tLoss Dis: 0.1593\tLoss Gen: 7.6480\tPred Dis: 0.9464\tPred Gen: 0.0781 / 0.0016\n",
            "[79/100][199/199]\tLoss Dis: 0.1940\tLoss Gen: 4.9103\tPred Dis: 0.8669\tPred Gen: 0.0123 / 0.0433\n",
            "[80/100][0/199]\tLoss Dis: 0.1184\tLoss Gen: 3.8138\tPred Dis: 0.9396\tPred Gen: 0.0204 / 0.0497\n",
            "[80/100][199/199]\tLoss Dis: 0.1403\tLoss Gen: 5.8186\tPred Dis: 0.9830\tPred Gen: 0.1047 / 0.0062\n",
            "[81/100][0/199]\tLoss Dis: 0.0213\tLoss Gen: 6.4658\tPred Dis: 0.9875\tPred Gen: 0.0081 / 0.0033\n",
            "[81/100][199/199]\tLoss Dis: 0.2765\tLoss Gen: 4.2474\tPred Dis: 0.8573\tPred Gen: 0.0381 / 0.0701\n",
            "[82/100][0/199]\tLoss Dis: 1.8462\tLoss Gen: 11.3999\tPred Dis: 0.9429\tPred Gen: 0.5136 / 0.0001\n",
            "[82/100][199/199]\tLoss Dis: 0.1663\tLoss Gen: 5.0448\tPred Dis: 0.9585\tPred Gen: 0.1024 / 0.0146\n",
            "[83/100][0/199]\tLoss Dis: 0.0992\tLoss Gen: 5.6970\tPred Dis: 0.9680\tPred Gen: 0.0564 / 0.0084\n",
            "[83/100][199/199]\tLoss Dis: 0.1143\tLoss Gen: 5.2838\tPred Dis: 0.9835\tPred Gen: 0.0813 / 0.0087\n",
            "[84/100][0/199]\tLoss Dis: 0.1775\tLoss Gen: 4.8909\tPred Dis: 0.8966\tPred Gen: 0.0435 / 0.0154\n",
            "[84/100][199/199]\tLoss Dis: 0.0259\tLoss Gen: 5.8999\tPred Dis: 0.9892\tPred Gen: 0.0142 / 0.0067\n",
            "[85/100][0/199]\tLoss Dis: 0.0745\tLoss Gen: 4.6645\tPred Dis: 0.9571\tPred Gen: 0.0283 / 0.0143\n",
            "[85/100][199/199]\tLoss Dis: 0.0569\tLoss Gen: 8.0714\tPred Dis: 0.9554\tPred Gen: 0.0058 / 0.0018\n",
            "[86/100][0/199]\tLoss Dis: 0.1438\tLoss Gen: 5.5820\tPred Dis: 0.8866\tPred Gen: 0.0093 / 0.0136\n",
            "[86/100][199/199]\tLoss Dis: 0.0989\tLoss Gen: 6.9504\tPred Dis: 0.9959\tPred Gen: 0.0688 / 0.0025\n",
            "[87/100][0/199]\tLoss Dis: 0.0375\tLoss Gen: 7.1918\tPred Dis: 0.9960\tPred Gen: 0.0315 / 0.0031\n",
            "[87/100][199/199]\tLoss Dis: 0.1469\tLoss Gen: 7.4512\tPred Dis: 0.9986\tPred Gen: 0.1187 / 0.0011\n",
            "[88/100][0/199]\tLoss Dis: 0.0155\tLoss Gen: 7.5159\tPred Dis: 0.9915\tPred Gen: 0.0068 / 0.0017\n",
            "[88/100][199/199]\tLoss Dis: 0.0494\tLoss Gen: 6.6153\tPred Dis: 0.9769\tPred Gen: 0.0233 / 0.0059\n",
            "[89/100][0/199]\tLoss Dis: 0.0871\tLoss Gen: 5.6293\tPred Dis: 0.9379\tPred Gen: 0.0163 / 0.0126\n",
            "[89/100][199/199]\tLoss Dis: 0.0388\tLoss Gen: 6.0928\tPred Dis: 0.9942\tPred Gen: 0.0309 / 0.0058\n",
            "[90/100][0/199]\tLoss Dis: 0.0667\tLoss Gen: 6.0565\tPred Dis: 0.9938\tPred Gen: 0.0561 / 0.0056\n",
            "[90/100][199/199]\tLoss Dis: 0.1206\tLoss Gen: 5.9834\tPred Dis: 0.9381\tPred Gen: 0.0201 / 0.0098\n",
            "[91/100][0/199]\tLoss Dis: 0.0459\tLoss Gen: 5.2879\tPred Dis: 0.9668\tPred Gen: 0.0080 / 0.0117\n",
            "[91/100][199/199]\tLoss Dis: 0.0574\tLoss Gen: 6.1873\tPred Dis: 0.9690\tPred Gen: 0.0218 / 0.0049\n",
            "[92/100][0/199]\tLoss Dis: 0.0276\tLoss Gen: 5.6630\tPred Dis: 0.9826\tPred Gen: 0.0093 / 0.0073\n",
            "[92/100][199/199]\tLoss Dis: 0.1308\tLoss Gen: 5.1090\tPred Dis: 0.8979\tPred Gen: 0.0108 / 0.0154\n",
            "[93/100][0/199]\tLoss Dis: 0.0413\tLoss Gen: 5.3046\tPred Dis: 0.9766\tPred Gen: 0.0164 / 0.0168\n",
            "[93/100][199/199]\tLoss Dis: 0.1607\tLoss Gen: 6.2697\tPred Dis: 0.9205\tPred Gen: 0.0517 / 0.0086\n",
            "[94/100][0/199]\tLoss Dis: 0.2405\tLoss Gen: 4.1696\tPred Dis: 0.8689\tPred Gen: 0.0266 / 0.0602\n",
            "[94/100][199/199]\tLoss Dis: 0.0681\tLoss Gen: 5.4601\tPred Dis: 0.9670\tPred Gen: 0.0319 / 0.0120\n",
            "[95/100][0/199]\tLoss Dis: 0.3566\tLoss Gen: 9.0656\tPred Dis: 0.9814\tPred Gen: 0.1611 / 0.0010\n",
            "[95/100][199/199]\tLoss Dis: 0.2384\tLoss Gen: 7.3000\tPred Dis: 0.9914\tPred Gen: 0.0822 / 0.0039\n",
            "[96/100][0/199]\tLoss Dis: 0.0272\tLoss Gen: 7.3973\tPred Dis: 0.9977\tPred Gen: 0.0232 / 0.0039\n",
            "[96/100][199/199]\tLoss Dis: 0.0697\tLoss Gen: 6.3980\tPred Dis: 0.9475\tPred Gen: 0.0133 / 0.0048\n",
            "[97/100][0/199]\tLoss Dis: 0.0483\tLoss Gen: 6.9442\tPred Dis: 0.9748\tPred Gen: 0.0202 / 0.0065\n",
            "[97/100][199/199]\tLoss Dis: 0.0594\tLoss Gen: 5.3575\tPred Dis: 0.9622\tPred Gen: 0.0167 / 0.0085\n",
            "[98/100][0/199]\tLoss Dis: 0.0341\tLoss Gen: 6.4766\tPred Dis: 0.9847\tPred Gen: 0.0175 / 0.0064\n",
            "[98/100][199/199]\tLoss Dis: 0.0833\tLoss Gen: 6.4126\tPred Dis: 0.9449\tPred Gen: 0.0214 / 0.0111\n",
            "[99/100][0/199]\tLoss Dis: 0.0874\tLoss Gen: 6.1017\tPred Dis: 0.9819\tPred Gen: 0.0560 / 0.0039\n",
            "[99/100][199/199]\tLoss Dis: 0.0587\tLoss Gen: 5.6575\tPred Dis: 0.9686\tPred Gen: 0.0253 / 0.0101\n"
          ]
        }
      ],
      "source": [
        "gan_64.train(\n",
        "    n_epochs=N_EPOCHS,\n",
        "    dataloader=train_dataloader,\n",
        "    criterion=CRITERION,\n",
        "    optim_gen=OPTIM_GEN,\n",
        "    optim_dis=OPTIM_DIS,\n",
        "    img_title='gan_64'\n",
        ")"
      ]
    },
    {
      "cell_type": "markdown",
      "source": [
        "#GAN 128x128"
      ],
      "metadata": {
        "id": "M6n-hXGBREOK"
      }
    },
    {
      "cell_type": "code",
      "source": [
        "SIZE = 128\n",
        "BATCH_SIZE = 16\n",
        "N_WORKERS = os.cpu_count()\n",
        "SAMPLE_SIZE = 100"
      ],
      "metadata": {
        "id": "7YtE8BmDRC9n"
      },
      "execution_count": null,
      "outputs": []
    },
    {
      "cell_type": "code",
      "source": [
        "data_transforms = transforms.Compose([\n",
        "    transforms.Resize((128, 128)),\n",
        "    transforms.ToTensor(),\n",
        "])"
      ],
      "metadata": {
        "id": "X91Ggs-ERSA7"
      },
      "execution_count": null,
      "outputs": []
    },
    {
      "cell_type": "code",
      "source": [
        "train_data = datasets.ImageFolder(\n",
        "    root=path_data,\n",
        "    transform=data_transforms\n",
        ")"
      ],
      "metadata": {
        "id": "rkUYPGDYRaq9"
      },
      "execution_count": null,
      "outputs": []
    },
    {
      "cell_type": "code",
      "source": [
        "train_dataloader = DataLoader(\n",
        "    dataset=train_data,\n",
        "    batch_size=BATCH_SIZE,\n",
        "    num_workers=N_WORKERS,\n",
        "    shuffle=True,\n",
        "    drop_last=True\n",
        ")"
      ],
      "metadata": {
        "id": "a2HCfHAgRiAl"
      },
      "execution_count": null,
      "outputs": []
    },
    {
      "cell_type": "code",
      "execution_count": null,
      "metadata": {
        "id": "w_v_7svARxHj"
      },
      "outputs": [],
      "source": [
        "class Generator(nn.Module):\n",
        "    def __init__(self, sample_size: int) -> None:\n",
        "        super(Generator, self).__init__()\n",
        "\n",
        "        self.conv1 = nn.Sequential(\n",
        "            nn.ConvTranspose2d(sample_size, 1024, kernel_size=4, stride=1, padding=0, bias=False),\n",
        "            nn.BatchNorm2d(1024),\n",
        "            nn.ReLU(True)\n",
        "        )\n",
        "\n",
        "        self.conv2 = nn.Sequential(\n",
        "            nn.ConvTranspose2d(1024, 512, kernel_size=4, stride=2, padding=1, bias=False),\n",
        "            nn.BatchNorm2d(512),\n",
        "            nn.ReLU(True)\n",
        "        )\n",
        "\n",
        "        self.conv3 = nn.Sequential(\n",
        "            nn.ConvTranspose2d(512, 256, kernel_size=4, stride=2, padding=1, bias=False),\n",
        "            nn.BatchNorm2d(256),\n",
        "            nn.ReLU(True)\n",
        "        )\n",
        "\n",
        "        self.conv4 = nn.Sequential(\n",
        "            nn.ConvTranspose2d(256, 128, kernel_size=4, stride=2, padding=1, bias=False),\n",
        "            nn.BatchNorm2d(128),\n",
        "            nn.ReLU(True)\n",
        "        )\n",
        "\n",
        "        self.conv5 = nn.Sequential(\n",
        "            nn.ConvTranspose2d(128, 64, kernel_size=4, stride=2, padding=1, bias=False),\n",
        "            nn.BatchNorm2d(64),\n",
        "            nn.ReLU(True)\n",
        "        )\n",
        "\n",
        "        self.conv6 = nn.Sequential(\n",
        "            nn.ConvTranspose2d(64, 3, kernel_size=4, stride=2, padding=1, bias=False),\n",
        "            nn.Tanh()\n",
        "        )\n",
        "\n",
        "    def forward(self, z: torch.Tensor) -> torch.Tensor:\n",
        "        x = self.conv1(z)\n",
        "        x = self.conv2(x)\n",
        "        x = self.conv3(x)\n",
        "        x = self.conv4(x)\n",
        "        x = self.conv5(x)\n",
        "        x = self.conv6(x)\n",
        "\n",
        "        return x"
      ]
    },
    {
      "cell_type": "code",
      "source": [
        "generator = Generator(SAMPLE_SIZE).apply(weights_init).to(device)"
      ],
      "metadata": {
        "id": "tWUyQoz2SZEz"
      },
      "execution_count": null,
      "outputs": []
    },
    {
      "cell_type": "code",
      "source": [
        "class Discriminator(nn.Module):\n",
        "    def __init__(self) -> None:\n",
        "        super(Discriminator, self).__init__()\n",
        "\n",
        "        self.conv1 = nn.Sequential(\n",
        "            nn.Conv2d(3, 32, kernel_size=4, stride=2, padding=1, bias=False),\n",
        "            nn.LeakyReLU(0.2, inplace=True)\n",
        "        )\n",
        "\n",
        "        self.conv2 = nn.Sequential(\n",
        "            nn.Conv2d(32, 64, kernel_size=4, stride=2, padding=1, bias=False),\n",
        "            nn.BatchNorm2d(64),\n",
        "            nn.LeakyReLU(0.2, inplace=True)\n",
        "        )\n",
        "\n",
        "        self.conv3 = nn.Sequential(\n",
        "            nn.Conv2d(64, 128, kernel_size=4, stride=2, padding=1, bias=False),\n",
        "            nn.BatchNorm2d(128),\n",
        "            nn.LeakyReLU(0.2, inplace=True)\n",
        "        )\n",
        "\n",
        "        self.conv4 = nn.Sequential(\n",
        "            nn.Conv2d(128, 256, kernel_size=4, stride=2, padding=1, bias=False),\n",
        "            nn.BatchNorm2d(256),\n",
        "            nn.LeakyReLU(0.2, inplace=True)\n",
        "        )\n",
        "\n",
        "        self.conv5 = nn.Sequential(\n",
        "            nn.Conv2d(256, 512, kernel_size=4, stride=2, padding=1, bias=False),\n",
        "            nn.BatchNorm2d(512),\n",
        "            nn.LeakyReLU(0.2, inplace=True)\n",
        "        )\n",
        "\n",
        "        self.conv6 = nn.Sequential(\n",
        "            nn.Conv2d(512, 1, kernel_size=4, stride=1, padding=0, bias=False),\n",
        "            nn.Sigmoid()\n",
        "        )\n",
        "\n",
        "    def forward(self, z: torch.Tensor) -> torch.Tensor:\n",
        "        x = self.conv1(z)\n",
        "        x = self.conv2(x)\n",
        "        x = self.conv3(x)\n",
        "        x = self.conv4(x)\n",
        "        x = self.conv5(x)\n",
        "        x = self.conv6(x)\n",
        "\n",
        "        return x"
      ],
      "metadata": {
        "id": "ZzonUjuBSoJW"
      },
      "execution_count": null,
      "outputs": []
    },
    {
      "cell_type": "code",
      "source": [
        "discriminator = Discriminator().apply(weights_init).to(device)"
      ],
      "metadata": {
        "id": "XKOu30VFSyLm"
      },
      "execution_count": null,
      "outputs": []
    },
    {
      "cell_type": "code",
      "source": [
        "class GAN:\n",
        "\n",
        "    def __init__(self, generator, discriminator, sample_size: int, device: str = device) -> None:\n",
        "        self.generator = generator\n",
        "        self.discriminator = discriminator\n",
        "        self.sample_size = sample_size\n",
        "        self.device = device\n",
        "\n",
        "        self.fixed_noise = torch.randn(16, self.sample_size, 1, 1, device=self.device)\n",
        "\n",
        "        self.real_label = 1.\n",
        "        self.fake_label = 0.\n",
        "\n",
        "\n",
        "    def train(self,\n",
        "              n_epochs: int,\n",
        "              dataloader: torch.utils.data.dataloader.DataLoader,\n",
        "              criterion: torch.nn.modules.loss,\n",
        "              optim_gen: torch.optim,\n",
        "              optim_dis: torch.optim,\n",
        "              img_title: str) -> None:\n",
        "\n",
        "        self.img_title = img_title\n",
        "        self.__criterion = criterion\n",
        "        self.__optim_gen = optim_gen\n",
        "        self.__optim_dis = optim_dis\n",
        "\n",
        "        self.images = []\n",
        "        self.loss_generator = []\n",
        "        self.loss_discriminator = []\n",
        "\n",
        "        for epoch in tqdm(range(n_epochs), 'Training process'):\n",
        "            for i, data in enumerate(dataloader, 0):\n",
        "\n",
        "                pred_dis, pred_gen_before, loss_dis = self.train_discriminator(data)\n",
        "                loss_gen, pred_gen_after = self.train_generator()\n",
        "\n",
        "                self.loss_generator.append(loss_gen)\n",
        "                self.loss_discriminator.append(loss_dis)\n",
        "\n",
        "                if i == 0 or i % 200 == 0 or i == len(dataloader) - 1:\n",
        "                    self.print_iter(epoch, n_epochs, i, len(dataloader) - 1,\n",
        "                                    loss_dis, loss_gen, pred_dis, pred_gen_before, pred_gen_after)\n",
        "\n",
        "                self.generator.eval()\n",
        "                with torch.no_grad():\n",
        "                    fake_images = self.generator(self.fixed_noise).cpu()\n",
        "\n",
        "                self.images.append(make_grid(fake_images, 4, padding=2, normalize=True))\n",
        "\n",
        "\n",
        "\n",
        "    def print_iter(self, *args):\n",
        "        print('[%d/%d][%d/%d]\\tLoss Dis: %.4f\\tLoss Gen: %.4f\\tPred Dis: %.4f\\tPred Gen: %.4f / %.4f'\n",
        "              % (args))\n",
        "\n",
        "\n",
        "    def train_discriminator(self, data: list) -> Tuple[float, float, float]:\n",
        "        self.discriminator.zero_grad()\n",
        "\n",
        "        real_images = data[0].to(self.device)\n",
        "        b_size = real_images.size(0)\n",
        "        self.__label = torch.full((b_size,), self.real_label, dtype=torch.float, device=self.device)\n",
        "\n",
        "        # forward\n",
        "        pred_real = self.discriminator(real_images).view(-1)\n",
        "        loss_real = self.__criterion(pred_real, self.__label)\n",
        "\n",
        "        # backward\n",
        "        loss_real.backward()\n",
        "        pred_dis = pred_real.mean().item()\n",
        "\n",
        "        noise = torch.randn(b_size, self.sample_size, 1, 1, device=self.device)\n",
        "        self.__fake_images = self.generator(noise)\n",
        "        self.__label.fill_(self.fake_label)\n",
        "\n",
        "        # forward\n",
        "        pred_fake = self.discriminator(self.__fake_images.detach()).view(-1)\n",
        "        loss_fake = self.__criterion(pred_fake, self.__label)\n",
        "\n",
        "        # backward\n",
        "        loss_fake.backward()\n",
        "        pred_gen_before = pred_fake.mean().item()\n",
        "\n",
        "        loss = loss_real + loss_fake\n",
        "        self.__optim_dis.step()\n",
        "\n",
        "        return pred_dis, pred_gen_before, loss.item()\n",
        "\n",
        "    def train_generator(self) -> Tuple[float, float]:\n",
        "        self.generator.zero_grad()\n",
        "\n",
        "        self.__label.fill_(self.real_label)\n",
        "\n",
        "        # forward\n",
        "        pred = self.discriminator(self.__fake_images).view(-1)\n",
        "        loss = self.__criterion(pred, self.__label)\n",
        "\n",
        "        # backward\n",
        "        loss.backward()\n",
        "        pred_gen_after = pred.mean().item()\n",
        "\n",
        "        self.__optim_gen.step()\n",
        "\n",
        "        return loss.item(), pred_gen_after"
      ],
      "metadata": {
        "id": "0O_wHOscTAp4"
      },
      "execution_count": null,
      "outputs": []
    },
    {
      "cell_type": "code",
      "source": [
        "gan_128 = GAN(generator, discriminator, SAMPLE_SIZE)"
      ],
      "metadata": {
        "id": "mcetf6cwTyGq"
      },
      "execution_count": null,
      "outputs": []
    },
    {
      "cell_type": "code",
      "source": [
        "gan_128.train(\n",
        "    n_epochs=N_EPOCHS,\n",
        "    dataloader=train_dataloader,\n",
        "    criterion=CRITERION,\n",
        "    optim_gen=OPTIM_GEN,\n",
        "    optim_dis=OPTIM_DIS,\n",
        "    img_title='gan_128'\n",
        ")"
      ],
      "metadata": {
        "colab": {
          "base_uri": "https://localhost:8080/",
          "height": 642,
          "referenced_widgets": [
            "d5a346565a3648f6a724844e3d76db8a",
            "6a8d23061d5a476dbf966a5a3f695f03",
            "0cfa946eb3c94b1f84b4c8a48466d6d9",
            "fa182c4edc8e42c594d2e9ac3214cb12",
            "7aba656054514ba88c0d747ebf69d4cc",
            "37417e68e2254390b2a1c2e621c75a76",
            "268b7196ba814b0f96583a4a2b58fdce",
            "f4871bcaafd6401b9dcfc4d15b59da71",
            "9a8a4b6a89684cfc8cebb3fed8e18544",
            "32eb533de8fd4981993f18c8bdb85a2f",
            "341766de24e24d43a3e4f23ab1dae192"
          ]
        },
        "id": "oMeYOUlgT5vF",
        "outputId": "7c6e251d-1cc7-4546-b908-a76826e01705"
      },
      "execution_count": null,
      "outputs": [
        {
          "output_type": "display_data",
          "data": {
            "text/plain": [
              "Training process:   0%|          | 0/100 [00:00<?, ?it/s]"
            ],
            "application/vnd.jupyter.widget-view+json": {
              "version_major": 2,
              "version_minor": 0,
              "model_id": "d5a346565a3648f6a724844e3d76db8a"
            }
          },
          "metadata": {}
        },
        {
          "output_type": "stream",
          "name": "stderr",
          "text": [
            "/usr/lib/python3.10/multiprocessing/popen_fork.py:66: RuntimeWarning: os.fork() was called. os.fork() is incompatible with multithreaded code, and JAX is multithreaded, so this will likely lead to a deadlock.\n",
            "  self.pid = os.fork()\n"
          ]
        },
        {
          "output_type": "stream",
          "name": "stdout",
          "text": [
            "[0/100][0/199]\tLoss Dis: 1.1601\tLoss Gen: 0.8927\tPred Dis: 0.6686\tPred Gen: 0.4649 / 0.4649\n",
            "[0/100][199/199]\tLoss Dis: 1.3528\tLoss Gen: 0.9189\tPred Dis: 0.5647\tPred Gen: 0.4644 / 0.4644\n",
            "[1/100][0/199]\tLoss Dis: 1.4278\tLoss Gen: 0.8532\tPred Dis: 0.5656\tPred Gen: 0.4940 / 0.4940\n",
            "[1/100][199/199]\tLoss Dis: 0.9559\tLoss Gen: 1.1962\tPred Dis: 0.6500\tPred Gen: 0.3451 / 0.3451\n",
            "[2/100][0/199]\tLoss Dis: 1.2529\tLoss Gen: 0.7538\tPred Dis: 0.6478\tPred Gen: 0.5026 / 0.5026\n",
            "[2/100][199/199]\tLoss Dis: 1.0613\tLoss Gen: 1.0104\tPred Dis: 0.6513\tPred Gen: 0.4152 / 0.4152\n",
            "[3/100][0/199]\tLoss Dis: 1.4033\tLoss Gen: 0.9072\tPred Dis: 0.5918\tPred Gen: 0.4625 / 0.4625\n",
            "[3/100][199/199]\tLoss Dis: 1.0993\tLoss Gen: 0.9475\tPred Dis: 0.7028\tPred Gen: 0.4457 / 0.4457\n",
            "[4/100][0/199]\tLoss Dis: 1.3269\tLoss Gen: 0.8166\tPred Dis: 0.6358\tPred Gen: 0.4944 / 0.4944\n",
            "[4/100][199/199]\tLoss Dis: 1.3045\tLoss Gen: 0.7985\tPred Dis: 0.6253\tPred Gen: 0.4958 / 0.4958\n",
            "[5/100][0/199]\tLoss Dis: 1.1494\tLoss Gen: 0.9444\tPred Dis: 0.6340\tPred Gen: 0.4256 / 0.4256\n",
            "[5/100][199/199]\tLoss Dis: 0.8707\tLoss Gen: 1.3521\tPred Dis: 0.6897\tPred Gen: 0.3162 / 0.3162\n",
            "[6/100][0/199]\tLoss Dis: 1.1541\tLoss Gen: 0.9780\tPred Dis: 0.6108\tPred Gen: 0.4237 / 0.4237\n",
            "[6/100][199/199]\tLoss Dis: 1.0372\tLoss Gen: 1.0365\tPred Dis: 0.7097\tPred Gen: 0.4191 / 0.4191\n",
            "[7/100][0/199]\tLoss Dis: 1.3728\tLoss Gen: 0.9451\tPred Dis: 0.5643\tPred Gen: 0.4495 / 0.4495\n",
            "[7/100][199/199]\tLoss Dis: 1.2822\tLoss Gen: 1.0555\tPred Dis: 0.5844\tPred Gen: 0.4058 / 0.4058\n",
            "[8/100][0/199]\tLoss Dis: 1.2545\tLoss Gen: 0.7235\tPred Dis: 0.6803\tPred Gen: 0.5126 / 0.5126\n",
            "[8/100][199/199]\tLoss Dis: 1.2260\tLoss Gen: 0.8338\tPred Dis: 0.6692\tPred Gen: 0.4799 / 0.4799\n",
            "[9/100][0/199]\tLoss Dis: 1.0230\tLoss Gen: 1.1056\tPred Dis: 0.6277\tPred Gen: 0.3719 / 0.3719\n",
            "[9/100][199/199]\tLoss Dis: 1.2374\tLoss Gen: 0.7660\tPred Dis: 0.7044\tPred Gen: 0.5181 / 0.5181\n",
            "[10/100][0/199]\tLoss Dis: 1.5610\tLoss Gen: 0.8800\tPred Dis: 0.5551\tPred Gen: 0.4977 / 0.4977\n",
            "[10/100][199/199]\tLoss Dis: 1.3933\tLoss Gen: 0.7171\tPred Dis: 0.6271\tPred Gen: 0.5442 / 0.5442\n",
            "[11/100][0/199]\tLoss Dis: 1.1695\tLoss Gen: 0.7944\tPred Dis: 0.6579\tPred Gen: 0.4852 / 0.4852\n",
            "[11/100][199/199]\tLoss Dis: 1.3931\tLoss Gen: 0.9447\tPred Dis: 0.5203\tPred Gen: 0.4370 / 0.4370\n",
            "[12/100][0/199]\tLoss Dis: 1.3578\tLoss Gen: 0.8406\tPred Dis: 0.6550\tPred Gen: 0.4977 / 0.4977\n",
            "[12/100][199/199]\tLoss Dis: 1.1702\tLoss Gen: 1.0324\tPred Dis: 0.6282\tPred Gen: 0.4219 / 0.4219\n",
            "[13/100][0/199]\tLoss Dis: 1.3826\tLoss Gen: 0.9064\tPred Dis: 0.5368\tPred Gen: 0.4609 / 0.4609\n",
            "[13/100][199/199]\tLoss Dis: 1.3858\tLoss Gen: 0.8204\tPred Dis: 0.5970\tPred Gen: 0.5137 / 0.5137\n",
            "[14/100][0/199]\tLoss Dis: 1.3935\tLoss Gen: 0.9166\tPred Dis: 0.6306\tPred Gen: 0.4966 / 0.4966\n",
            "[14/100][199/199]\tLoss Dis: 1.3626\tLoss Gen: 0.7719\tPred Dis: 0.6099\tPred Gen: 0.5034 / 0.5034\n",
            "[15/100][0/199]\tLoss Dis: 1.3267\tLoss Gen: 0.9159\tPred Dis: 0.5915\tPred Gen: 0.4639 / 0.4639\n"
          ]
        }
      ]
    },
    {
      "cell_type": "markdown",
      "source": [
        "#GAN 264x264"
      ],
      "metadata": {
        "id": "OyzUhPTyZSEh"
      }
    },
    {
      "cell_type": "code",
      "source": [
        "SIZE = 256\n",
        "BATCH_SIZE = 16\n",
        "N_WORKERS = os.cpu_count()\n",
        "SAMPLE_SIZE = 100"
      ],
      "metadata": {
        "id": "iWamZNCdZ1An"
      },
      "execution_count": null,
      "outputs": []
    },
    {
      "cell_type": "code",
      "source": [
        "data_transforms = transforms.Compose([\n",
        "    transforms.Resize((256, 256)),\n",
        "    transforms.ToTensor(),\n",
        "])"
      ],
      "metadata": {
        "id": "xPdUai-9aBb6"
      },
      "execution_count": null,
      "outputs": []
    },
    {
      "cell_type": "code",
      "source": [
        "train_data = datasets.ImageFolder(\n",
        "    root=path_data,\n",
        "    transform=data_transforms\n",
        ")"
      ],
      "metadata": {
        "id": "hxhvGoDWcjTg"
      },
      "execution_count": null,
      "outputs": []
    },
    {
      "cell_type": "code",
      "source": [
        "train_dataloader = DataLoader(\n",
        "    dataset=train_data,\n",
        "    batch_size=BATCH_SIZE,\n",
        "    num_workers=N_WORKERS,\n",
        "    shuffle=True,\n",
        "    drop_last=True\n",
        ")"
      ],
      "metadata": {
        "id": "7FfnxGKxcjTh"
      },
      "execution_count": null,
      "outputs": []
    },
    {
      "cell_type": "code",
      "execution_count": null,
      "metadata": {
        "id": "Wvjd6rLkcjTh"
      },
      "outputs": [],
      "source": [
        "class Generator(nn.Module):\n",
        "    def __init__(self, sample_size: int) -> None:\n",
        "        super(Generator, self).__init__()\n",
        "\n",
        "        self.conv1 = nn.Sequential(\n",
        "            nn.ConvTranspose2d(sample_size, 2048, kernel_size=4, stride=1, padding=0, bias=False),\n",
        "            nn.BatchNorm2d(2048),\n",
        "            nn.ReLU(True)\n",
        "        )\n",
        "\n",
        "        self.conv2 = nn.Sequential(\n",
        "            nn.ConvTranspose2d(2048, 1024, kernel_size=4, stride=2, padding=1, bias=False),\n",
        "            nn.BatchNorm2d(1024),\n",
        "            nn.ReLU(True)\n",
        "        )\n",
        "\n",
        "        self.conv3 = nn.Sequential(\n",
        "            nn.ConvTranspose2d(1024, 512, kernel_size=4, stride=2, padding=1, bias=False),\n",
        "            nn.BatchNorm2d(512),\n",
        "            nn.ReLU(True)\n",
        "        )\n",
        "\n",
        "        self.conv4 = nn.Sequential(\n",
        "            nn.ConvTranspose2d(512, 256, kernel_size=4, stride=2, padding=1, bias=False),\n",
        "            nn.BatchNorm2d(256),\n",
        "            nn.ReLU(True)\n",
        "        )\n",
        "\n",
        "        self.conv5 = nn.Sequential(\n",
        "            nn.ConvTranspose2d(256, 128, kernel_size=4, stride=2, padding=1, bias=False),\n",
        "            nn.BatchNorm2d(128),\n",
        "            nn.ReLU(True)\n",
        "        )\n",
        "\n",
        "        self.conv5 = nn.Sequential(\n",
        "            nn.ConvTranspose2d(128, 64, kernel_size=4, stride=2, padding=1, bias=False),\n",
        "            nn.BatchNorm2d(64),\n",
        "            nn.ReLU(True)\n",
        "        )\n",
        "\n",
        "        self.conv7 = nn.Sequential(\n",
        "            nn.ConvTranspose2d(64, 3, kernel_size=4, stride=2, padding=1, bias=False),\n",
        "            nn.Tanh()\n",
        "        )\n",
        "\n",
        "    def forward(self, z: torch.Tensor) -> torch.Tensor:\n",
        "        x = self.conv1(z)\n",
        "        x = self.conv2(x)\n",
        "        x = self.conv3(x)\n",
        "        x = self.conv4(x)\n",
        "        x = self.conv5(x)\n",
        "        x = self.conv6(x)\n",
        "        x = self.conv7(x)\n",
        "\n",
        "        return x"
      ]
    },
    {
      "cell_type": "code",
      "source": [
        "generator = Generator(SAMPLE_SIZE).apply(weights_init).to(device)"
      ],
      "metadata": {
        "id": "EpNJE1B_de1A"
      },
      "execution_count": null,
      "outputs": []
    },
    {
      "cell_type": "code",
      "source": [
        "class Discriminator(nn.Module):\n",
        "    def __init__(self) -> None:\n",
        "        super(Discriminator, self).__init__()\n",
        "\n",
        "        self.conv1 = nn.Sequential(\n",
        "            nn.Conv2d(3, 32, kernel_size=4, stride=2, padding=1, bias=False),\n",
        "            nn.LeakyReLU(0.2, inplace=True)\n",
        "        )\n",
        "\n",
        "        self.conv2 = nn.Sequential(\n",
        "            nn.Conv2d(32, 64, kernel_size=4, stride=2, padding=1, bias=False),\n",
        "            nn.BatchNorm2d(64),\n",
        "            nn.LeakyReLU(0.2, inplace=True)\n",
        "        )\n",
        "\n",
        "        self.conv3 = nn.Sequential(\n",
        "            nn.Conv2d(64, 128, kernel_size=4, stride=2, padding=1, bias=False),\n",
        "            nn.BatchNorm2d(128),\n",
        "            nn.LeakyReLU(0.2, inplace=True)\n",
        "        )\n",
        "\n",
        "        self.conv4 = nn.Sequential(\n",
        "            nn.Conv2d(128, 256, kernel_size=4, stride=2, padding=1, bias=False),\n",
        "            nn.BatchNorm2d(256),\n",
        "            nn.LeakyReLU(0.2, inplace=True)\n",
        "        )\n",
        "\n",
        "        self.conv5 = nn.Sequential(\n",
        "            nn.Conv2d(256, 512, kernel_size=4, stride=2, padding=1, bias=False),\n",
        "            nn.BatchNorm2d(512),\n",
        "            nn.LeakyReLU(0.2, inplace=True)\n",
        "        )\n",
        "\n",
        "        self.conv6 = nn.Sequential(\n",
        "            nn.Conv2d(512, 1024, kernel_size=4, stride=2, padding=1, bias=False),\n",
        "            nn.BatchNorm2d(1024),\n",
        "            nn.LeakyReLU(0.2, inplace=True)\n",
        "        )\n",
        "\n",
        "        self.conv7 = nn.Sequential(\n",
        "            nn.Conv2d(1024, 1, kernel_size=4, stride=1, padding=0, bias=False),\n",
        "            nn.Sigmoid()\n",
        "        )\n",
        "\n",
        "    def forward(self, z: torch.Tensor) -> torch.Tensor:\n",
        "        x = self.conv1(z)\n",
        "        x = self.conv2(x)\n",
        "        x = self.conv3(x)\n",
        "        x = self.conv4(x)\n",
        "        x = self.conv5(x)\n",
        "        x = self.conv6(x)\n",
        "        x = self.conv7(x)\n",
        "\n",
        "        return x"
      ],
      "metadata": {
        "id": "6ZDu9NvGde1B"
      },
      "execution_count": null,
      "outputs": []
    },
    {
      "cell_type": "code",
      "source": [
        "discriminator = Discriminator().apply(weights_init).to(device)"
      ],
      "metadata": {
        "id": "ntW7itxIde1B"
      },
      "execution_count": null,
      "outputs": []
    },
    {
      "cell_type": "code",
      "source": [
        "class GAN:\n",
        "\n",
        "    def __init__(self, generator, discriminator, sample_size: int, device: str = device) -> None:\n",
        "        self.generator = generator\n",
        "        self.discriminator = discriminator\n",
        "        self.sample_size = sample_size\n",
        "        self.device = device\n",
        "\n",
        "        self.fixed_noise = torch.randn(32, self.sample_size, 1, 1, device=self.device)\n",
        "\n",
        "        self.real_label = 1.\n",
        "        self.fake_label = 0.\n",
        "\n",
        "\n",
        "    def train(self,\n",
        "              n_epochs: int,\n",
        "              dataloader: torch.utils.data.dataloader.DataLoader,\n",
        "              criterion: torch.nn.modules.loss,\n",
        "              optim_gen: torch.optim,\n",
        "              optim_dis: torch.optim,\n",
        "              img_title: str) -> None:\n",
        "\n",
        "        self.img_title = img_title\n",
        "        self.__criterion = criterion\n",
        "        self.__optim_gen = optim_gen\n",
        "        self.__optim_dis = optim_dis\n",
        "\n",
        "        self.images = []\n",
        "        self.loss_generator = []\n",
        "        self.loss_discriminator = []\n",
        "\n",
        "        for epoch in tqdm(range(n_epochs), 'Training process'):\n",
        "            for i, data in enumerate(dataloader, 0):\n",
        "\n",
        "                pred_dis, pred_gen_before, loss_dis = self.train_discriminator(data)\n",
        "                loss_gen, pred_gen_after = self.train_generator()\n",
        "\n",
        "                self.loss_generator.append(loss_gen)\n",
        "                self.loss_discriminator.append(loss_dis)\n",
        "\n",
        "                if i == 0 or i % 200 == 0 or i == len(dataloader) - 1:\n",
        "                    self.print_iter(epoch, n_epochs, i, len(dataloader) - 1,\n",
        "                                    loss_dis, loss_gen, pred_dis, pred_gen_before, pred_gen_after)\n",
        "\n",
        "                self.generator.eval()\n",
        "                with torch.no_grad():\n",
        "                    fake_images = self.generator(self.fixed_noise).cpu()\n",
        "\n",
        "                self.images.append(make_grid(fake_images, 4, padding=2, normalize=True))\n",
        "\n",
        "\n",
        "\n",
        "    def print_iter(self, *args):\n",
        "        print('[%d/%d][%d/%d]\\tLoss Dis: %.4f\\tLoss Gen: %.4f\\tPred Dis: %.4f\\tPred Gen: %.4f / %.4f'\n",
        "              % (args))\n",
        "\n",
        "\n",
        "    def train_discriminator(self, data: list) -> Tuple[float, float, float]:\n",
        "        self.discriminator.zero_grad()\n",
        "\n",
        "        real_images = data[0].to(self.device)\n",
        "        b_size = real_images.size(0)\n",
        "        self.__label = torch.full((b_size,), self.real_label, dtype=torch.float, device=self.device)\n",
        "\n",
        "        # forward\n",
        "        pred_real = self.discriminator(real_images).view(-1)\n",
        "        loss_real = self.__criterion(pred_real, self.__label)\n",
        "\n",
        "        # backward\n",
        "        loss_real.backward()\n",
        "        pred_dis = pred_real.mean().item()\n",
        "\n",
        "        noise = torch.randn(b_size, self.sample_size, 1, 1, device=self.device)\n",
        "        self.__fake_images = self.generator(noise)\n",
        "        self.__label.fill_(self.fake_label)\n",
        "\n",
        "        # forward\n",
        "        pred_fake = self.discriminator(self.__fake_images.detach()).view(-1)\n",
        "        loss_fake = self.__criterion(pred_fake, self.__label)\n",
        "\n",
        "        # backward\n",
        "        loss_fake.backward()\n",
        "        pred_gen_before = pred_fake.mean().item()\n",
        "\n",
        "        loss = loss_real + loss_fake\n",
        "        self.__optim_dis.step()\n",
        "\n",
        "        return pred_dis, pred_gen_before, loss.item()\n",
        "\n",
        "    def train_generator(self) -> Tuple[float, float]:\n",
        "        self.generator.zero_grad()\n",
        "\n",
        "        self.__label.fill_(self.real_label)\n",
        "\n",
        "        # forward\n",
        "        pred = self.discriminator(self.__fake_images).view(-1)\n",
        "        loss = self.__criterion(pred, self.__label)\n",
        "\n",
        "        # backward\n",
        "        loss.backward()\n",
        "        pred_gen_after = pred.mean().item()\n",
        "\n",
        "        self.__optim_gen.step()\n",
        "\n",
        "        return loss.item(), pred_gen_after"
      ],
      "metadata": {
        "id": "_SKZkgHVde1C"
      },
      "execution_count": null,
      "outputs": []
    },
    {
      "cell_type": "code",
      "execution_count": null,
      "metadata": {
        "id": "ruwQbqWXeppl"
      },
      "outputs": [],
      "source": [
        "N_EPOCHS = 100\n",
        "CRITERION = nn.BCELoss()\n",
        "\n",
        "LEARN_R = 2e-4\n",
        "BETAS = (0.5, 0.999)\n",
        "\n",
        "OPTIM_DIS = torch.optim.Adam(discriminator.parameters(), lr=LEARN_R, betas=BETAS)\n",
        "OPTIM_GEN = torch.optim.Adam(generator.parameters(), lr=LEARN_R, betas=BETAS)"
      ]
    },
    {
      "cell_type": "code",
      "execution_count": null,
      "metadata": {
        "id": "jDPBpn8Ieppm"
      },
      "outputs": [],
      "source": [
        "gan_256 = GAN(generator, discriminator, SAMPLE_SIZE)"
      ]
    },
    {
      "cell_type": "code",
      "execution_count": null,
      "metadata": {
        "colab": {
          "base_uri": "https://localhost:8080/",
          "height": 460,
          "referenced_widgets": [
            "c7fc40ddfa9c45c78b4d335d57eda135",
            "6ec0ad0d261b4cbbbbf417d1c5d6905b",
            "ea221969101b4359a676134047412e23",
            "6f64be0653894d159f298191624c4f8c",
            "9739e4aafe1048f0a2460b26184f14d5",
            "2cec911fb3c8453eaad7b51ddf96ca03",
            "1048613ec9ca49fd8fc2bf851cbde05c",
            "81ae6aff58024bfdae916c321b34a58e",
            "e305c6ec3b264f0a8d351145d83f0f24",
            "91adcf8cac5849e5a0f2d8666998c0f9",
            "ad5857d21ffb495590b4c86a3726dce0"
          ]
        },
        "outputId": "fce2d2f5-8c75-42f5-ec92-7375f30cbc43",
        "id": "A2RacHAMeppn"
      },
      "outputs": [
        {
          "output_type": "display_data",
          "data": {
            "text/plain": [
              "Training process:   0%|          | 0/100 [00:00<?, ?it/s]"
            ],
            "application/vnd.jupyter.widget-view+json": {
              "version_major": 2,
              "version_minor": 0,
              "model_id": "c7fc40ddfa9c45c78b4d335d57eda135"
            }
          },
          "metadata": {}
        },
        {
          "output_type": "stream",
          "name": "stderr",
          "text": [
            "/usr/lib/python3.10/multiprocessing/popen_fork.py:66: RuntimeWarning: os.fork() was called. os.fork() is incompatible with multithreaded code, and JAX is multithreaded, so this will likely lead to a deadlock.\n",
            "  self.pid = os.fork()\n"
          ]
        },
        {
          "output_type": "error",
          "ename": "RuntimeError",
          "evalue": "Given transposed=1, weight of size [128, 64, 4, 4], expected input[16, 256, 32, 32] to have 128 channels, but got 256 channels instead",
          "traceback": [
            "\u001b[0;31m---------------------------------------------------------------------------\u001b[0m",
            "\u001b[0;31mRuntimeError\u001b[0m                              Traceback (most recent call last)",
            "\u001b[0;32m<ipython-input-75-0e170cfe7709>\u001b[0m in \u001b[0;36m<cell line: 1>\u001b[0;34m()\u001b[0m\n\u001b[0;32m----> 1\u001b[0;31m gan_256.train(\n\u001b[0m\u001b[1;32m      2\u001b[0m     \u001b[0mn_epochs\u001b[0m\u001b[0;34m=\u001b[0m\u001b[0mN_EPOCHS\u001b[0m\u001b[0;34m,\u001b[0m\u001b[0;34m\u001b[0m\u001b[0;34m\u001b[0m\u001b[0m\n\u001b[1;32m      3\u001b[0m     \u001b[0mdataloader\u001b[0m\u001b[0;34m=\u001b[0m\u001b[0mtrain_dataloader\u001b[0m\u001b[0;34m,\u001b[0m\u001b[0;34m\u001b[0m\u001b[0;34m\u001b[0m\u001b[0m\n\u001b[1;32m      4\u001b[0m     \u001b[0mcriterion\u001b[0m\u001b[0;34m=\u001b[0m\u001b[0mCRITERION\u001b[0m\u001b[0;34m,\u001b[0m\u001b[0;34m\u001b[0m\u001b[0;34m\u001b[0m\u001b[0m\n\u001b[1;32m      5\u001b[0m     \u001b[0moptim_gen\u001b[0m\u001b[0;34m=\u001b[0m\u001b[0mOPTIM_GEN\u001b[0m\u001b[0;34m,\u001b[0m\u001b[0;34m\u001b[0m\u001b[0;34m\u001b[0m\u001b[0m\n",
            "\u001b[0;32m<ipython-input-72-c8f4eea8cc03>\u001b[0m in \u001b[0;36mtrain\u001b[0;34m(self, n_epochs, dataloader, criterion, optim_gen, optim_dis, img_title)\u001b[0m\n\u001b[1;32m     33\u001b[0m             \u001b[0;32mfor\u001b[0m \u001b[0mi\u001b[0m\u001b[0;34m,\u001b[0m \u001b[0mdata\u001b[0m \u001b[0;32min\u001b[0m \u001b[0menumerate\u001b[0m\u001b[0;34m(\u001b[0m\u001b[0mdataloader\u001b[0m\u001b[0;34m,\u001b[0m \u001b[0;36m0\u001b[0m\u001b[0;34m)\u001b[0m\u001b[0;34m:\u001b[0m\u001b[0;34m\u001b[0m\u001b[0;34m\u001b[0m\u001b[0m\n\u001b[1;32m     34\u001b[0m \u001b[0;34m\u001b[0m\u001b[0m\n\u001b[0;32m---> 35\u001b[0;31m                 \u001b[0mpred_dis\u001b[0m\u001b[0;34m,\u001b[0m \u001b[0mpred_gen_before\u001b[0m\u001b[0;34m,\u001b[0m \u001b[0mloss_dis\u001b[0m \u001b[0;34m=\u001b[0m \u001b[0mself\u001b[0m\u001b[0;34m.\u001b[0m\u001b[0mtrain_discriminator\u001b[0m\u001b[0;34m(\u001b[0m\u001b[0mdata\u001b[0m\u001b[0;34m)\u001b[0m\u001b[0;34m\u001b[0m\u001b[0;34m\u001b[0m\u001b[0m\n\u001b[0m\u001b[1;32m     36\u001b[0m                 \u001b[0mloss_gen\u001b[0m\u001b[0;34m,\u001b[0m \u001b[0mpred_gen_after\u001b[0m \u001b[0;34m=\u001b[0m \u001b[0mself\u001b[0m\u001b[0;34m.\u001b[0m\u001b[0mtrain_generator\u001b[0m\u001b[0;34m(\u001b[0m\u001b[0;34m)\u001b[0m\u001b[0;34m\u001b[0m\u001b[0;34m\u001b[0m\u001b[0m\n\u001b[1;32m     37\u001b[0m \u001b[0;34m\u001b[0m\u001b[0m\n",
            "\u001b[0;32m<ipython-input-72-c8f4eea8cc03>\u001b[0m in \u001b[0;36mtrain_discriminator\u001b[0;34m(self, data)\u001b[0m\n\u001b[1;32m     72\u001b[0m \u001b[0;34m\u001b[0m\u001b[0m\n\u001b[1;32m     73\u001b[0m         \u001b[0mnoise\u001b[0m \u001b[0;34m=\u001b[0m \u001b[0mtorch\u001b[0m\u001b[0;34m.\u001b[0m\u001b[0mrandn\u001b[0m\u001b[0;34m(\u001b[0m\u001b[0mb_size\u001b[0m\u001b[0;34m,\u001b[0m \u001b[0mself\u001b[0m\u001b[0;34m.\u001b[0m\u001b[0msample_size\u001b[0m\u001b[0;34m,\u001b[0m \u001b[0;36m1\u001b[0m\u001b[0;34m,\u001b[0m \u001b[0;36m1\u001b[0m\u001b[0;34m,\u001b[0m \u001b[0mdevice\u001b[0m\u001b[0;34m=\u001b[0m\u001b[0mself\u001b[0m\u001b[0;34m.\u001b[0m\u001b[0mdevice\u001b[0m\u001b[0;34m)\u001b[0m\u001b[0;34m\u001b[0m\u001b[0;34m\u001b[0m\u001b[0m\n\u001b[0;32m---> 74\u001b[0;31m         \u001b[0mself\u001b[0m\u001b[0;34m.\u001b[0m\u001b[0m__fake_images\u001b[0m \u001b[0;34m=\u001b[0m \u001b[0mself\u001b[0m\u001b[0;34m.\u001b[0m\u001b[0mgenerator\u001b[0m\u001b[0;34m(\u001b[0m\u001b[0mnoise\u001b[0m\u001b[0;34m)\u001b[0m\u001b[0;34m\u001b[0m\u001b[0;34m\u001b[0m\u001b[0m\n\u001b[0m\u001b[1;32m     75\u001b[0m         \u001b[0mself\u001b[0m\u001b[0;34m.\u001b[0m\u001b[0m__label\u001b[0m\u001b[0;34m.\u001b[0m\u001b[0mfill_\u001b[0m\u001b[0;34m(\u001b[0m\u001b[0mself\u001b[0m\u001b[0;34m.\u001b[0m\u001b[0mfake_label\u001b[0m\u001b[0;34m)\u001b[0m\u001b[0;34m\u001b[0m\u001b[0;34m\u001b[0m\u001b[0m\n\u001b[1;32m     76\u001b[0m \u001b[0;34m\u001b[0m\u001b[0m\n",
            "\u001b[0;32m/usr/local/lib/python3.10/dist-packages/torch/nn/modules/module.py\u001b[0m in \u001b[0;36m_wrapped_call_impl\u001b[0;34m(self, *args, **kwargs)\u001b[0m\n\u001b[1;32m   1509\u001b[0m             \u001b[0;32mreturn\u001b[0m \u001b[0mself\u001b[0m\u001b[0;34m.\u001b[0m\u001b[0m_compiled_call_impl\u001b[0m\u001b[0;34m(\u001b[0m\u001b[0;34m*\u001b[0m\u001b[0margs\u001b[0m\u001b[0;34m,\u001b[0m \u001b[0;34m**\u001b[0m\u001b[0mkwargs\u001b[0m\u001b[0;34m)\u001b[0m  \u001b[0;31m# type: ignore[misc]\u001b[0m\u001b[0;34m\u001b[0m\u001b[0;34m\u001b[0m\u001b[0m\n\u001b[1;32m   1510\u001b[0m         \u001b[0;32melse\u001b[0m\u001b[0;34m:\u001b[0m\u001b[0;34m\u001b[0m\u001b[0;34m\u001b[0m\u001b[0m\n\u001b[0;32m-> 1511\u001b[0;31m             \u001b[0;32mreturn\u001b[0m \u001b[0mself\u001b[0m\u001b[0;34m.\u001b[0m\u001b[0m_call_impl\u001b[0m\u001b[0;34m(\u001b[0m\u001b[0;34m*\u001b[0m\u001b[0margs\u001b[0m\u001b[0;34m,\u001b[0m \u001b[0;34m**\u001b[0m\u001b[0mkwargs\u001b[0m\u001b[0;34m)\u001b[0m\u001b[0;34m\u001b[0m\u001b[0;34m\u001b[0m\u001b[0m\n\u001b[0m\u001b[1;32m   1512\u001b[0m \u001b[0;34m\u001b[0m\u001b[0m\n\u001b[1;32m   1513\u001b[0m     \u001b[0;32mdef\u001b[0m \u001b[0m_call_impl\u001b[0m\u001b[0;34m(\u001b[0m\u001b[0mself\u001b[0m\u001b[0;34m,\u001b[0m \u001b[0;34m*\u001b[0m\u001b[0margs\u001b[0m\u001b[0;34m,\u001b[0m \u001b[0;34m**\u001b[0m\u001b[0mkwargs\u001b[0m\u001b[0;34m)\u001b[0m\u001b[0;34m:\u001b[0m\u001b[0;34m\u001b[0m\u001b[0;34m\u001b[0m\u001b[0m\n",
            "\u001b[0;32m/usr/local/lib/python3.10/dist-packages/torch/nn/modules/module.py\u001b[0m in \u001b[0;36m_call_impl\u001b[0;34m(self, *args, **kwargs)\u001b[0m\n\u001b[1;32m   1518\u001b[0m                 \u001b[0;32mor\u001b[0m \u001b[0m_global_backward_pre_hooks\u001b[0m \u001b[0;32mor\u001b[0m \u001b[0m_global_backward_hooks\u001b[0m\u001b[0;34m\u001b[0m\u001b[0;34m\u001b[0m\u001b[0m\n\u001b[1;32m   1519\u001b[0m                 or _global_forward_hooks or _global_forward_pre_hooks):\n\u001b[0;32m-> 1520\u001b[0;31m             \u001b[0;32mreturn\u001b[0m \u001b[0mforward_call\u001b[0m\u001b[0;34m(\u001b[0m\u001b[0;34m*\u001b[0m\u001b[0margs\u001b[0m\u001b[0;34m,\u001b[0m \u001b[0;34m**\u001b[0m\u001b[0mkwargs\u001b[0m\u001b[0;34m)\u001b[0m\u001b[0;34m\u001b[0m\u001b[0;34m\u001b[0m\u001b[0m\n\u001b[0m\u001b[1;32m   1521\u001b[0m \u001b[0;34m\u001b[0m\u001b[0m\n\u001b[1;32m   1522\u001b[0m         \u001b[0;32mtry\u001b[0m\u001b[0;34m:\u001b[0m\u001b[0;34m\u001b[0m\u001b[0;34m\u001b[0m\u001b[0m\n",
            "\u001b[0;32m<ipython-input-68-1619684946f7>\u001b[0m in \u001b[0;36mforward\u001b[0;34m(self, z)\u001b[0m\n\u001b[1;32m     49\u001b[0m         \u001b[0mx\u001b[0m \u001b[0;34m=\u001b[0m \u001b[0mself\u001b[0m\u001b[0;34m.\u001b[0m\u001b[0mconv3\u001b[0m\u001b[0;34m(\u001b[0m\u001b[0mx\u001b[0m\u001b[0;34m)\u001b[0m\u001b[0;34m\u001b[0m\u001b[0;34m\u001b[0m\u001b[0m\n\u001b[1;32m     50\u001b[0m         \u001b[0mx\u001b[0m \u001b[0;34m=\u001b[0m \u001b[0mself\u001b[0m\u001b[0;34m.\u001b[0m\u001b[0mconv4\u001b[0m\u001b[0;34m(\u001b[0m\u001b[0mx\u001b[0m\u001b[0;34m)\u001b[0m\u001b[0;34m\u001b[0m\u001b[0;34m\u001b[0m\u001b[0m\n\u001b[0;32m---> 51\u001b[0;31m         \u001b[0mx\u001b[0m \u001b[0;34m=\u001b[0m \u001b[0mself\u001b[0m\u001b[0;34m.\u001b[0m\u001b[0mconv5\u001b[0m\u001b[0;34m(\u001b[0m\u001b[0mx\u001b[0m\u001b[0;34m)\u001b[0m\u001b[0;34m\u001b[0m\u001b[0;34m\u001b[0m\u001b[0m\n\u001b[0m\u001b[1;32m     52\u001b[0m         \u001b[0mx\u001b[0m \u001b[0;34m=\u001b[0m \u001b[0mself\u001b[0m\u001b[0;34m.\u001b[0m\u001b[0mconv6\u001b[0m\u001b[0;34m(\u001b[0m\u001b[0mx\u001b[0m\u001b[0;34m)\u001b[0m\u001b[0;34m\u001b[0m\u001b[0;34m\u001b[0m\u001b[0m\n\u001b[1;32m     53\u001b[0m         \u001b[0mx\u001b[0m \u001b[0;34m=\u001b[0m \u001b[0mself\u001b[0m\u001b[0;34m.\u001b[0m\u001b[0mconv7\u001b[0m\u001b[0;34m(\u001b[0m\u001b[0mx\u001b[0m\u001b[0;34m)\u001b[0m\u001b[0;34m\u001b[0m\u001b[0;34m\u001b[0m\u001b[0m\n",
            "\u001b[0;32m/usr/local/lib/python3.10/dist-packages/torch/nn/modules/module.py\u001b[0m in \u001b[0;36m_wrapped_call_impl\u001b[0;34m(self, *args, **kwargs)\u001b[0m\n\u001b[1;32m   1509\u001b[0m             \u001b[0;32mreturn\u001b[0m \u001b[0mself\u001b[0m\u001b[0;34m.\u001b[0m\u001b[0m_compiled_call_impl\u001b[0m\u001b[0;34m(\u001b[0m\u001b[0;34m*\u001b[0m\u001b[0margs\u001b[0m\u001b[0;34m,\u001b[0m \u001b[0;34m**\u001b[0m\u001b[0mkwargs\u001b[0m\u001b[0;34m)\u001b[0m  \u001b[0;31m# type: ignore[misc]\u001b[0m\u001b[0;34m\u001b[0m\u001b[0;34m\u001b[0m\u001b[0m\n\u001b[1;32m   1510\u001b[0m         \u001b[0;32melse\u001b[0m\u001b[0;34m:\u001b[0m\u001b[0;34m\u001b[0m\u001b[0;34m\u001b[0m\u001b[0m\n\u001b[0;32m-> 1511\u001b[0;31m             \u001b[0;32mreturn\u001b[0m \u001b[0mself\u001b[0m\u001b[0;34m.\u001b[0m\u001b[0m_call_impl\u001b[0m\u001b[0;34m(\u001b[0m\u001b[0;34m*\u001b[0m\u001b[0margs\u001b[0m\u001b[0;34m,\u001b[0m \u001b[0;34m**\u001b[0m\u001b[0mkwargs\u001b[0m\u001b[0;34m)\u001b[0m\u001b[0;34m\u001b[0m\u001b[0;34m\u001b[0m\u001b[0m\n\u001b[0m\u001b[1;32m   1512\u001b[0m \u001b[0;34m\u001b[0m\u001b[0m\n\u001b[1;32m   1513\u001b[0m     \u001b[0;32mdef\u001b[0m \u001b[0m_call_impl\u001b[0m\u001b[0;34m(\u001b[0m\u001b[0mself\u001b[0m\u001b[0;34m,\u001b[0m \u001b[0;34m*\u001b[0m\u001b[0margs\u001b[0m\u001b[0;34m,\u001b[0m \u001b[0;34m**\u001b[0m\u001b[0mkwargs\u001b[0m\u001b[0;34m)\u001b[0m\u001b[0;34m:\u001b[0m\u001b[0;34m\u001b[0m\u001b[0;34m\u001b[0m\u001b[0m\n",
            "\u001b[0;32m/usr/local/lib/python3.10/dist-packages/torch/nn/modules/module.py\u001b[0m in \u001b[0;36m_call_impl\u001b[0;34m(self, *args, **kwargs)\u001b[0m\n\u001b[1;32m   1518\u001b[0m                 \u001b[0;32mor\u001b[0m \u001b[0m_global_backward_pre_hooks\u001b[0m \u001b[0;32mor\u001b[0m \u001b[0m_global_backward_hooks\u001b[0m\u001b[0;34m\u001b[0m\u001b[0;34m\u001b[0m\u001b[0m\n\u001b[1;32m   1519\u001b[0m                 or _global_forward_hooks or _global_forward_pre_hooks):\n\u001b[0;32m-> 1520\u001b[0;31m             \u001b[0;32mreturn\u001b[0m \u001b[0mforward_call\u001b[0m\u001b[0;34m(\u001b[0m\u001b[0;34m*\u001b[0m\u001b[0margs\u001b[0m\u001b[0;34m,\u001b[0m \u001b[0;34m**\u001b[0m\u001b[0mkwargs\u001b[0m\u001b[0;34m)\u001b[0m\u001b[0;34m\u001b[0m\u001b[0;34m\u001b[0m\u001b[0m\n\u001b[0m\u001b[1;32m   1521\u001b[0m \u001b[0;34m\u001b[0m\u001b[0m\n\u001b[1;32m   1522\u001b[0m         \u001b[0;32mtry\u001b[0m\u001b[0;34m:\u001b[0m\u001b[0;34m\u001b[0m\u001b[0;34m\u001b[0m\u001b[0m\n",
            "\u001b[0;32m/usr/local/lib/python3.10/dist-packages/torch/nn/modules/container.py\u001b[0m in \u001b[0;36mforward\u001b[0;34m(self, input)\u001b[0m\n\u001b[1;32m    215\u001b[0m     \u001b[0;32mdef\u001b[0m \u001b[0mforward\u001b[0m\u001b[0;34m(\u001b[0m\u001b[0mself\u001b[0m\u001b[0;34m,\u001b[0m \u001b[0minput\u001b[0m\u001b[0;34m)\u001b[0m\u001b[0;34m:\u001b[0m\u001b[0;34m\u001b[0m\u001b[0;34m\u001b[0m\u001b[0m\n\u001b[1;32m    216\u001b[0m         \u001b[0;32mfor\u001b[0m \u001b[0mmodule\u001b[0m \u001b[0;32min\u001b[0m \u001b[0mself\u001b[0m\u001b[0;34m:\u001b[0m\u001b[0;34m\u001b[0m\u001b[0;34m\u001b[0m\u001b[0m\n\u001b[0;32m--> 217\u001b[0;31m             \u001b[0minput\u001b[0m \u001b[0;34m=\u001b[0m \u001b[0mmodule\u001b[0m\u001b[0;34m(\u001b[0m\u001b[0minput\u001b[0m\u001b[0;34m)\u001b[0m\u001b[0;34m\u001b[0m\u001b[0;34m\u001b[0m\u001b[0m\n\u001b[0m\u001b[1;32m    218\u001b[0m         \u001b[0;32mreturn\u001b[0m \u001b[0minput\u001b[0m\u001b[0;34m\u001b[0m\u001b[0;34m\u001b[0m\u001b[0m\n\u001b[1;32m    219\u001b[0m \u001b[0;34m\u001b[0m\u001b[0m\n",
            "\u001b[0;32m/usr/local/lib/python3.10/dist-packages/torch/nn/modules/module.py\u001b[0m in \u001b[0;36m_wrapped_call_impl\u001b[0;34m(self, *args, **kwargs)\u001b[0m\n\u001b[1;32m   1509\u001b[0m             \u001b[0;32mreturn\u001b[0m \u001b[0mself\u001b[0m\u001b[0;34m.\u001b[0m\u001b[0m_compiled_call_impl\u001b[0m\u001b[0;34m(\u001b[0m\u001b[0;34m*\u001b[0m\u001b[0margs\u001b[0m\u001b[0;34m,\u001b[0m \u001b[0;34m**\u001b[0m\u001b[0mkwargs\u001b[0m\u001b[0;34m)\u001b[0m  \u001b[0;31m# type: ignore[misc]\u001b[0m\u001b[0;34m\u001b[0m\u001b[0;34m\u001b[0m\u001b[0m\n\u001b[1;32m   1510\u001b[0m         \u001b[0;32melse\u001b[0m\u001b[0;34m:\u001b[0m\u001b[0;34m\u001b[0m\u001b[0;34m\u001b[0m\u001b[0m\n\u001b[0;32m-> 1511\u001b[0;31m             \u001b[0;32mreturn\u001b[0m \u001b[0mself\u001b[0m\u001b[0;34m.\u001b[0m\u001b[0m_call_impl\u001b[0m\u001b[0;34m(\u001b[0m\u001b[0;34m*\u001b[0m\u001b[0margs\u001b[0m\u001b[0;34m,\u001b[0m \u001b[0;34m**\u001b[0m\u001b[0mkwargs\u001b[0m\u001b[0;34m)\u001b[0m\u001b[0;34m\u001b[0m\u001b[0;34m\u001b[0m\u001b[0m\n\u001b[0m\u001b[1;32m   1512\u001b[0m \u001b[0;34m\u001b[0m\u001b[0m\n\u001b[1;32m   1513\u001b[0m     \u001b[0;32mdef\u001b[0m \u001b[0m_call_impl\u001b[0m\u001b[0;34m(\u001b[0m\u001b[0mself\u001b[0m\u001b[0;34m,\u001b[0m \u001b[0;34m*\u001b[0m\u001b[0margs\u001b[0m\u001b[0;34m,\u001b[0m \u001b[0;34m**\u001b[0m\u001b[0mkwargs\u001b[0m\u001b[0;34m)\u001b[0m\u001b[0;34m:\u001b[0m\u001b[0;34m\u001b[0m\u001b[0;34m\u001b[0m\u001b[0m\n",
            "\u001b[0;32m/usr/local/lib/python3.10/dist-packages/torch/nn/modules/module.py\u001b[0m in \u001b[0;36m_call_impl\u001b[0;34m(self, *args, **kwargs)\u001b[0m\n\u001b[1;32m   1518\u001b[0m                 \u001b[0;32mor\u001b[0m \u001b[0m_global_backward_pre_hooks\u001b[0m \u001b[0;32mor\u001b[0m \u001b[0m_global_backward_hooks\u001b[0m\u001b[0;34m\u001b[0m\u001b[0;34m\u001b[0m\u001b[0m\n\u001b[1;32m   1519\u001b[0m                 or _global_forward_hooks or _global_forward_pre_hooks):\n\u001b[0;32m-> 1520\u001b[0;31m             \u001b[0;32mreturn\u001b[0m \u001b[0mforward_call\u001b[0m\u001b[0;34m(\u001b[0m\u001b[0;34m*\u001b[0m\u001b[0margs\u001b[0m\u001b[0;34m,\u001b[0m \u001b[0;34m**\u001b[0m\u001b[0mkwargs\u001b[0m\u001b[0;34m)\u001b[0m\u001b[0;34m\u001b[0m\u001b[0;34m\u001b[0m\u001b[0m\n\u001b[0m\u001b[1;32m   1521\u001b[0m \u001b[0;34m\u001b[0m\u001b[0m\n\u001b[1;32m   1522\u001b[0m         \u001b[0;32mtry\u001b[0m\u001b[0;34m:\u001b[0m\u001b[0;34m\u001b[0m\u001b[0;34m\u001b[0m\u001b[0m\n",
            "\u001b[0;32m/usr/local/lib/python3.10/dist-packages/torch/nn/modules/conv.py\u001b[0m in \u001b[0;36mforward\u001b[0;34m(self, input, output_size)\u001b[0m\n\u001b[1;32m    950\u001b[0m             num_spatial_dims, self.dilation)  # type: ignore[arg-type]\n\u001b[1;32m    951\u001b[0m \u001b[0;34m\u001b[0m\u001b[0m\n\u001b[0;32m--> 952\u001b[0;31m         return F.conv_transpose2d(\n\u001b[0m\u001b[1;32m    953\u001b[0m             \u001b[0minput\u001b[0m\u001b[0;34m,\u001b[0m \u001b[0mself\u001b[0m\u001b[0;34m.\u001b[0m\u001b[0mweight\u001b[0m\u001b[0;34m,\u001b[0m \u001b[0mself\u001b[0m\u001b[0;34m.\u001b[0m\u001b[0mbias\u001b[0m\u001b[0;34m,\u001b[0m \u001b[0mself\u001b[0m\u001b[0;34m.\u001b[0m\u001b[0mstride\u001b[0m\u001b[0;34m,\u001b[0m \u001b[0mself\u001b[0m\u001b[0;34m.\u001b[0m\u001b[0mpadding\u001b[0m\u001b[0;34m,\u001b[0m\u001b[0;34m\u001b[0m\u001b[0;34m\u001b[0m\u001b[0m\n\u001b[1;32m    954\u001b[0m             output_padding, self.groups, self.dilation)\n",
            "\u001b[0;31mRuntimeError\u001b[0m: Given transposed=1, weight of size [128, 64, 4, 4], expected input[16, 256, 32, 32] to have 128 channels, but got 256 channels instead"
          ]
        }
      ],
      "source": [
        "gan_256.train(\n",
        "    n_epochs=N_EPOCHS,\n",
        "    dataloader=train_dataloader,\n",
        "    criterion=CRITERION,\n",
        "    optim_gen=OPTIM_GEN,\n",
        "    optim_dis=OPTIM_DIS,\n",
        "    img_title='gan_64'\n",
        ")"
      ]
    }
  ],
  "metadata": {
    "colab": {
      "provenance": [],
      "gpuType": "T4"
    },
    "kernelspec": {
      "display_name": "Python 3",
      "name": "python3"
    },
    "language_info": {
      "name": "python"
    },
    "widgets": {
      "application/vnd.jupyter.widget-state+json": {
        "476519a785cc4f7689e6f7e14f492816": {
          "model_module": "@jupyter-widgets/controls",
          "model_name": "HBoxModel",
          "model_module_version": "1.5.0",
          "state": {
            "_dom_classes": [],
            "_model_module": "@jupyter-widgets/controls",
            "_model_module_version": "1.5.0",
            "_model_name": "HBoxModel",
            "_view_count": null,
            "_view_module": "@jupyter-widgets/controls",
            "_view_module_version": "1.5.0",
            "_view_name": "HBoxView",
            "box_style": "",
            "children": [
              "IPY_MODEL_2bb8bb13eb314c0e81c4ea681ef0f5f2",
              "IPY_MODEL_270784b0c65e4de2ac5b4c83e3bb4be2",
              "IPY_MODEL_bb475d372c0b4c7a800a1f1601b319eb"
            ],
            "layout": "IPY_MODEL_efe4604053f14165a6648ea4982694e9"
          }
        },
        "2bb8bb13eb314c0e81c4ea681ef0f5f2": {
          "model_module": "@jupyter-widgets/controls",
          "model_name": "HTMLModel",
          "model_module_version": "1.5.0",
          "state": {
            "_dom_classes": [],
            "_model_module": "@jupyter-widgets/controls",
            "_model_module_version": "1.5.0",
            "_model_name": "HTMLModel",
            "_view_count": null,
            "_view_module": "@jupyter-widgets/controls",
            "_view_module_version": "1.5.0",
            "_view_name": "HTMLView",
            "description": "",
            "description_tooltip": null,
            "layout": "IPY_MODEL_9ab4cd63e8cc46b2a701993fcef6f69f",
            "placeholder": "​",
            "style": "IPY_MODEL_ff21e906f06742e0b666e437da9cf035",
            "value": "Training process: 100%"
          }
        },
        "270784b0c65e4de2ac5b4c83e3bb4be2": {
          "model_module": "@jupyter-widgets/controls",
          "model_name": "FloatProgressModel",
          "model_module_version": "1.5.0",
          "state": {
            "_dom_classes": [],
            "_model_module": "@jupyter-widgets/controls",
            "_model_module_version": "1.5.0",
            "_model_name": "FloatProgressModel",
            "_view_count": null,
            "_view_module": "@jupyter-widgets/controls",
            "_view_module_version": "1.5.0",
            "_view_name": "ProgressView",
            "bar_style": "success",
            "description": "",
            "description_tooltip": null,
            "layout": "IPY_MODEL_182d141d04674293be597885e757868a",
            "max": 100,
            "min": 0,
            "orientation": "horizontal",
            "style": "IPY_MODEL_bcf4d039f3c8485b9bd46361dc8d524d",
            "value": 100
          }
        },
        "bb475d372c0b4c7a800a1f1601b319eb": {
          "model_module": "@jupyter-widgets/controls",
          "model_name": "HTMLModel",
          "model_module_version": "1.5.0",
          "state": {
            "_dom_classes": [],
            "_model_module": "@jupyter-widgets/controls",
            "_model_module_version": "1.5.0",
            "_model_name": "HTMLModel",
            "_view_count": null,
            "_view_module": "@jupyter-widgets/controls",
            "_view_module_version": "1.5.0",
            "_view_name": "HTMLView",
            "description": "",
            "description_tooltip": null,
            "layout": "IPY_MODEL_22f7e9be2d9c4f828da8ed702250f3a2",
            "placeholder": "​",
            "style": "IPY_MODEL_ac5191570a4c4e62894f932ec838e362",
            "value": " 100/100 [09:31&lt;00:00,  5.68s/it]"
          }
        },
        "efe4604053f14165a6648ea4982694e9": {
          "model_module": "@jupyter-widgets/base",
          "model_name": "LayoutModel",
          "model_module_version": "1.2.0",
          "state": {
            "_model_module": "@jupyter-widgets/base",
            "_model_module_version": "1.2.0",
            "_model_name": "LayoutModel",
            "_view_count": null,
            "_view_module": "@jupyter-widgets/base",
            "_view_module_version": "1.2.0",
            "_view_name": "LayoutView",
            "align_content": null,
            "align_items": null,
            "align_self": null,
            "border": null,
            "bottom": null,
            "display": null,
            "flex": null,
            "flex_flow": null,
            "grid_area": null,
            "grid_auto_columns": null,
            "grid_auto_flow": null,
            "grid_auto_rows": null,
            "grid_column": null,
            "grid_gap": null,
            "grid_row": null,
            "grid_template_areas": null,
            "grid_template_columns": null,
            "grid_template_rows": null,
            "height": null,
            "justify_content": null,
            "justify_items": null,
            "left": null,
            "margin": null,
            "max_height": null,
            "max_width": null,
            "min_height": null,
            "min_width": null,
            "object_fit": null,
            "object_position": null,
            "order": null,
            "overflow": null,
            "overflow_x": null,
            "overflow_y": null,
            "padding": null,
            "right": null,
            "top": null,
            "visibility": null,
            "width": null
          }
        },
        "9ab4cd63e8cc46b2a701993fcef6f69f": {
          "model_module": "@jupyter-widgets/base",
          "model_name": "LayoutModel",
          "model_module_version": "1.2.0",
          "state": {
            "_model_module": "@jupyter-widgets/base",
            "_model_module_version": "1.2.0",
            "_model_name": "LayoutModel",
            "_view_count": null,
            "_view_module": "@jupyter-widgets/base",
            "_view_module_version": "1.2.0",
            "_view_name": "LayoutView",
            "align_content": null,
            "align_items": null,
            "align_self": null,
            "border": null,
            "bottom": null,
            "display": null,
            "flex": null,
            "flex_flow": null,
            "grid_area": null,
            "grid_auto_columns": null,
            "grid_auto_flow": null,
            "grid_auto_rows": null,
            "grid_column": null,
            "grid_gap": null,
            "grid_row": null,
            "grid_template_areas": null,
            "grid_template_columns": null,
            "grid_template_rows": null,
            "height": null,
            "justify_content": null,
            "justify_items": null,
            "left": null,
            "margin": null,
            "max_height": null,
            "max_width": null,
            "min_height": null,
            "min_width": null,
            "object_fit": null,
            "object_position": null,
            "order": null,
            "overflow": null,
            "overflow_x": null,
            "overflow_y": null,
            "padding": null,
            "right": null,
            "top": null,
            "visibility": null,
            "width": null
          }
        },
        "ff21e906f06742e0b666e437da9cf035": {
          "model_module": "@jupyter-widgets/controls",
          "model_name": "DescriptionStyleModel",
          "model_module_version": "1.5.0",
          "state": {
            "_model_module": "@jupyter-widgets/controls",
            "_model_module_version": "1.5.0",
            "_model_name": "DescriptionStyleModel",
            "_view_count": null,
            "_view_module": "@jupyter-widgets/base",
            "_view_module_version": "1.2.0",
            "_view_name": "StyleView",
            "description_width": ""
          }
        },
        "182d141d04674293be597885e757868a": {
          "model_module": "@jupyter-widgets/base",
          "model_name": "LayoutModel",
          "model_module_version": "1.2.0",
          "state": {
            "_model_module": "@jupyter-widgets/base",
            "_model_module_version": "1.2.0",
            "_model_name": "LayoutModel",
            "_view_count": null,
            "_view_module": "@jupyter-widgets/base",
            "_view_module_version": "1.2.0",
            "_view_name": "LayoutView",
            "align_content": null,
            "align_items": null,
            "align_self": null,
            "border": null,
            "bottom": null,
            "display": null,
            "flex": null,
            "flex_flow": null,
            "grid_area": null,
            "grid_auto_columns": null,
            "grid_auto_flow": null,
            "grid_auto_rows": null,
            "grid_column": null,
            "grid_gap": null,
            "grid_row": null,
            "grid_template_areas": null,
            "grid_template_columns": null,
            "grid_template_rows": null,
            "height": null,
            "justify_content": null,
            "justify_items": null,
            "left": null,
            "margin": null,
            "max_height": null,
            "max_width": null,
            "min_height": null,
            "min_width": null,
            "object_fit": null,
            "object_position": null,
            "order": null,
            "overflow": null,
            "overflow_x": null,
            "overflow_y": null,
            "padding": null,
            "right": null,
            "top": null,
            "visibility": null,
            "width": null
          }
        },
        "bcf4d039f3c8485b9bd46361dc8d524d": {
          "model_module": "@jupyter-widgets/controls",
          "model_name": "ProgressStyleModel",
          "model_module_version": "1.5.0",
          "state": {
            "_model_module": "@jupyter-widgets/controls",
            "_model_module_version": "1.5.0",
            "_model_name": "ProgressStyleModel",
            "_view_count": null,
            "_view_module": "@jupyter-widgets/base",
            "_view_module_version": "1.2.0",
            "_view_name": "StyleView",
            "bar_color": null,
            "description_width": ""
          }
        },
        "22f7e9be2d9c4f828da8ed702250f3a2": {
          "model_module": "@jupyter-widgets/base",
          "model_name": "LayoutModel",
          "model_module_version": "1.2.0",
          "state": {
            "_model_module": "@jupyter-widgets/base",
            "_model_module_version": "1.2.0",
            "_model_name": "LayoutModel",
            "_view_count": null,
            "_view_module": "@jupyter-widgets/base",
            "_view_module_version": "1.2.0",
            "_view_name": "LayoutView",
            "align_content": null,
            "align_items": null,
            "align_self": null,
            "border": null,
            "bottom": null,
            "display": null,
            "flex": null,
            "flex_flow": null,
            "grid_area": null,
            "grid_auto_columns": null,
            "grid_auto_flow": null,
            "grid_auto_rows": null,
            "grid_column": null,
            "grid_gap": null,
            "grid_row": null,
            "grid_template_areas": null,
            "grid_template_columns": null,
            "grid_template_rows": null,
            "height": null,
            "justify_content": null,
            "justify_items": null,
            "left": null,
            "margin": null,
            "max_height": null,
            "max_width": null,
            "min_height": null,
            "min_width": null,
            "object_fit": null,
            "object_position": null,
            "order": null,
            "overflow": null,
            "overflow_x": null,
            "overflow_y": null,
            "padding": null,
            "right": null,
            "top": null,
            "visibility": null,
            "width": null
          }
        },
        "ac5191570a4c4e62894f932ec838e362": {
          "model_module": "@jupyter-widgets/controls",
          "model_name": "DescriptionStyleModel",
          "model_module_version": "1.5.0",
          "state": {
            "_model_module": "@jupyter-widgets/controls",
            "_model_module_version": "1.5.0",
            "_model_name": "DescriptionStyleModel",
            "_view_count": null,
            "_view_module": "@jupyter-widgets/base",
            "_view_module_version": "1.2.0",
            "_view_name": "StyleView",
            "description_width": ""
          }
        },
        "c7fc40ddfa9c45c78b4d335d57eda135": {
          "model_module": "@jupyter-widgets/controls",
          "model_name": "HBoxModel",
          "model_module_version": "1.5.0",
          "state": {
            "_dom_classes": [],
            "_model_module": "@jupyter-widgets/controls",
            "_model_module_version": "1.5.0",
            "_model_name": "HBoxModel",
            "_view_count": null,
            "_view_module": "@jupyter-widgets/controls",
            "_view_module_version": "1.5.0",
            "_view_name": "HBoxView",
            "box_style": "",
            "children": [
              "IPY_MODEL_6ec0ad0d261b4cbbbbf417d1c5d6905b",
              "IPY_MODEL_ea221969101b4359a676134047412e23",
              "IPY_MODEL_6f64be0653894d159f298191624c4f8c"
            ],
            "layout": "IPY_MODEL_9739e4aafe1048f0a2460b26184f14d5"
          }
        },
        "6ec0ad0d261b4cbbbbf417d1c5d6905b": {
          "model_module": "@jupyter-widgets/controls",
          "model_name": "HTMLModel",
          "model_module_version": "1.5.0",
          "state": {
            "_dom_classes": [],
            "_model_module": "@jupyter-widgets/controls",
            "_model_module_version": "1.5.0",
            "_model_name": "HTMLModel",
            "_view_count": null,
            "_view_module": "@jupyter-widgets/controls",
            "_view_module_version": "1.5.0",
            "_view_name": "HTMLView",
            "description": "",
            "description_tooltip": null,
            "layout": "IPY_MODEL_2cec911fb3c8453eaad7b51ddf96ca03",
            "placeholder": "​",
            "style": "IPY_MODEL_1048613ec9ca49fd8fc2bf851cbde05c",
            "value": "Training process:   0%"
          }
        },
        "ea221969101b4359a676134047412e23": {
          "model_module": "@jupyter-widgets/controls",
          "model_name": "FloatProgressModel",
          "model_module_version": "1.5.0",
          "state": {
            "_dom_classes": [],
            "_model_module": "@jupyter-widgets/controls",
            "_model_module_version": "1.5.0",
            "_model_name": "FloatProgressModel",
            "_view_count": null,
            "_view_module": "@jupyter-widgets/controls",
            "_view_module_version": "1.5.0",
            "_view_name": "ProgressView",
            "bar_style": "danger",
            "description": "",
            "description_tooltip": null,
            "layout": "IPY_MODEL_81ae6aff58024bfdae916c321b34a58e",
            "max": 100,
            "min": 0,
            "orientation": "horizontal",
            "style": "IPY_MODEL_e305c6ec3b264f0a8d351145d83f0f24",
            "value": 0
          }
        },
        "6f64be0653894d159f298191624c4f8c": {
          "model_module": "@jupyter-widgets/controls",
          "model_name": "HTMLModel",
          "model_module_version": "1.5.0",
          "state": {
            "_dom_classes": [],
            "_model_module": "@jupyter-widgets/controls",
            "_model_module_version": "1.5.0",
            "_model_name": "HTMLModel",
            "_view_count": null,
            "_view_module": "@jupyter-widgets/controls",
            "_view_module_version": "1.5.0",
            "_view_name": "HTMLView",
            "description": "",
            "description_tooltip": null,
            "layout": "IPY_MODEL_91adcf8cac5849e5a0f2d8666998c0f9",
            "placeholder": "​",
            "style": "IPY_MODEL_ad5857d21ffb495590b4c86a3726dce0",
            "value": " 0/100 [00:00&lt;?, ?it/s]"
          }
        },
        "9739e4aafe1048f0a2460b26184f14d5": {
          "model_module": "@jupyter-widgets/base",
          "model_name": "LayoutModel",
          "model_module_version": "1.2.0",
          "state": {
            "_model_module": "@jupyter-widgets/base",
            "_model_module_version": "1.2.0",
            "_model_name": "LayoutModel",
            "_view_count": null,
            "_view_module": "@jupyter-widgets/base",
            "_view_module_version": "1.2.0",
            "_view_name": "LayoutView",
            "align_content": null,
            "align_items": null,
            "align_self": null,
            "border": null,
            "bottom": null,
            "display": null,
            "flex": null,
            "flex_flow": null,
            "grid_area": null,
            "grid_auto_columns": null,
            "grid_auto_flow": null,
            "grid_auto_rows": null,
            "grid_column": null,
            "grid_gap": null,
            "grid_row": null,
            "grid_template_areas": null,
            "grid_template_columns": null,
            "grid_template_rows": null,
            "height": null,
            "justify_content": null,
            "justify_items": null,
            "left": null,
            "margin": null,
            "max_height": null,
            "max_width": null,
            "min_height": null,
            "min_width": null,
            "object_fit": null,
            "object_position": null,
            "order": null,
            "overflow": null,
            "overflow_x": null,
            "overflow_y": null,
            "padding": null,
            "right": null,
            "top": null,
            "visibility": null,
            "width": null
          }
        },
        "2cec911fb3c8453eaad7b51ddf96ca03": {
          "model_module": "@jupyter-widgets/base",
          "model_name": "LayoutModel",
          "model_module_version": "1.2.0",
          "state": {
            "_model_module": "@jupyter-widgets/base",
            "_model_module_version": "1.2.0",
            "_model_name": "LayoutModel",
            "_view_count": null,
            "_view_module": "@jupyter-widgets/base",
            "_view_module_version": "1.2.0",
            "_view_name": "LayoutView",
            "align_content": null,
            "align_items": null,
            "align_self": null,
            "border": null,
            "bottom": null,
            "display": null,
            "flex": null,
            "flex_flow": null,
            "grid_area": null,
            "grid_auto_columns": null,
            "grid_auto_flow": null,
            "grid_auto_rows": null,
            "grid_column": null,
            "grid_gap": null,
            "grid_row": null,
            "grid_template_areas": null,
            "grid_template_columns": null,
            "grid_template_rows": null,
            "height": null,
            "justify_content": null,
            "justify_items": null,
            "left": null,
            "margin": null,
            "max_height": null,
            "max_width": null,
            "min_height": null,
            "min_width": null,
            "object_fit": null,
            "object_position": null,
            "order": null,
            "overflow": null,
            "overflow_x": null,
            "overflow_y": null,
            "padding": null,
            "right": null,
            "top": null,
            "visibility": null,
            "width": null
          }
        },
        "1048613ec9ca49fd8fc2bf851cbde05c": {
          "model_module": "@jupyter-widgets/controls",
          "model_name": "DescriptionStyleModel",
          "model_module_version": "1.5.0",
          "state": {
            "_model_module": "@jupyter-widgets/controls",
            "_model_module_version": "1.5.0",
            "_model_name": "DescriptionStyleModel",
            "_view_count": null,
            "_view_module": "@jupyter-widgets/base",
            "_view_module_version": "1.2.0",
            "_view_name": "StyleView",
            "description_width": ""
          }
        },
        "81ae6aff58024bfdae916c321b34a58e": {
          "model_module": "@jupyter-widgets/base",
          "model_name": "LayoutModel",
          "model_module_version": "1.2.0",
          "state": {
            "_model_module": "@jupyter-widgets/base",
            "_model_module_version": "1.2.0",
            "_model_name": "LayoutModel",
            "_view_count": null,
            "_view_module": "@jupyter-widgets/base",
            "_view_module_version": "1.2.0",
            "_view_name": "LayoutView",
            "align_content": null,
            "align_items": null,
            "align_self": null,
            "border": null,
            "bottom": null,
            "display": null,
            "flex": null,
            "flex_flow": null,
            "grid_area": null,
            "grid_auto_columns": null,
            "grid_auto_flow": null,
            "grid_auto_rows": null,
            "grid_column": null,
            "grid_gap": null,
            "grid_row": null,
            "grid_template_areas": null,
            "grid_template_columns": null,
            "grid_template_rows": null,
            "height": null,
            "justify_content": null,
            "justify_items": null,
            "left": null,
            "margin": null,
            "max_height": null,
            "max_width": null,
            "min_height": null,
            "min_width": null,
            "object_fit": null,
            "object_position": null,
            "order": null,
            "overflow": null,
            "overflow_x": null,
            "overflow_y": null,
            "padding": null,
            "right": null,
            "top": null,
            "visibility": null,
            "width": null
          }
        },
        "e305c6ec3b264f0a8d351145d83f0f24": {
          "model_module": "@jupyter-widgets/controls",
          "model_name": "ProgressStyleModel",
          "model_module_version": "1.5.0",
          "state": {
            "_model_module": "@jupyter-widgets/controls",
            "_model_module_version": "1.5.0",
            "_model_name": "ProgressStyleModel",
            "_view_count": null,
            "_view_module": "@jupyter-widgets/base",
            "_view_module_version": "1.2.0",
            "_view_name": "StyleView",
            "bar_color": null,
            "description_width": ""
          }
        },
        "91adcf8cac5849e5a0f2d8666998c0f9": {
          "model_module": "@jupyter-widgets/base",
          "model_name": "LayoutModel",
          "model_module_version": "1.2.0",
          "state": {
            "_model_module": "@jupyter-widgets/base",
            "_model_module_version": "1.2.0",
            "_model_name": "LayoutModel",
            "_view_count": null,
            "_view_module": "@jupyter-widgets/base",
            "_view_module_version": "1.2.0",
            "_view_name": "LayoutView",
            "align_content": null,
            "align_items": null,
            "align_self": null,
            "border": null,
            "bottom": null,
            "display": null,
            "flex": null,
            "flex_flow": null,
            "grid_area": null,
            "grid_auto_columns": null,
            "grid_auto_flow": null,
            "grid_auto_rows": null,
            "grid_column": null,
            "grid_gap": null,
            "grid_row": null,
            "grid_template_areas": null,
            "grid_template_columns": null,
            "grid_template_rows": null,
            "height": null,
            "justify_content": null,
            "justify_items": null,
            "left": null,
            "margin": null,
            "max_height": null,
            "max_width": null,
            "min_height": null,
            "min_width": null,
            "object_fit": null,
            "object_position": null,
            "order": null,
            "overflow": null,
            "overflow_x": null,
            "overflow_y": null,
            "padding": null,
            "right": null,
            "top": null,
            "visibility": null,
            "width": null
          }
        },
        "ad5857d21ffb495590b4c86a3726dce0": {
          "model_module": "@jupyter-widgets/controls",
          "model_name": "DescriptionStyleModel",
          "model_module_version": "1.5.0",
          "state": {
            "_model_module": "@jupyter-widgets/controls",
            "_model_module_version": "1.5.0",
            "_model_name": "DescriptionStyleModel",
            "_view_count": null,
            "_view_module": "@jupyter-widgets/base",
            "_view_module_version": "1.2.0",
            "_view_name": "StyleView",
            "description_width": ""
          }
        },
        "d5a346565a3648f6a724844e3d76db8a": {
          "model_module": "@jupyter-widgets/controls",
          "model_name": "HBoxModel",
          "model_module_version": "1.5.0",
          "state": {
            "_dom_classes": [],
            "_model_module": "@jupyter-widgets/controls",
            "_model_module_version": "1.5.0",
            "_model_name": "HBoxModel",
            "_view_count": null,
            "_view_module": "@jupyter-widgets/controls",
            "_view_module_version": "1.5.0",
            "_view_name": "HBoxView",
            "box_style": "",
            "children": [
              "IPY_MODEL_6a8d23061d5a476dbf966a5a3f695f03",
              "IPY_MODEL_0cfa946eb3c94b1f84b4c8a48466d6d9",
              "IPY_MODEL_fa182c4edc8e42c594d2e9ac3214cb12"
            ],
            "layout": "IPY_MODEL_7aba656054514ba88c0d747ebf69d4cc"
          }
        },
        "6a8d23061d5a476dbf966a5a3f695f03": {
          "model_module": "@jupyter-widgets/controls",
          "model_name": "HTMLModel",
          "model_module_version": "1.5.0",
          "state": {
            "_dom_classes": [],
            "_model_module": "@jupyter-widgets/controls",
            "_model_module_version": "1.5.0",
            "_model_name": "HTMLModel",
            "_view_count": null,
            "_view_module": "@jupyter-widgets/controls",
            "_view_module_version": "1.5.0",
            "_view_name": "HTMLView",
            "description": "",
            "description_tooltip": null,
            "layout": "IPY_MODEL_37417e68e2254390b2a1c2e621c75a76",
            "placeholder": "​",
            "style": "IPY_MODEL_268b7196ba814b0f96583a4a2b58fdce",
            "value": "Training process:  15%"
          }
        },
        "0cfa946eb3c94b1f84b4c8a48466d6d9": {
          "model_module": "@jupyter-widgets/controls",
          "model_name": "FloatProgressModel",
          "model_module_version": "1.5.0",
          "state": {
            "_dom_classes": [],
            "_model_module": "@jupyter-widgets/controls",
            "_model_module_version": "1.5.0",
            "_model_name": "FloatProgressModel",
            "_view_count": null,
            "_view_module": "@jupyter-widgets/controls",
            "_view_module_version": "1.5.0",
            "_view_name": "ProgressView",
            "bar_style": "",
            "description": "",
            "description_tooltip": null,
            "layout": "IPY_MODEL_f4871bcaafd6401b9dcfc4d15b59da71",
            "max": 100,
            "min": 0,
            "orientation": "horizontal",
            "style": "IPY_MODEL_9a8a4b6a89684cfc8cebb3fed8e18544",
            "value": 15
          }
        },
        "fa182c4edc8e42c594d2e9ac3214cb12": {
          "model_module": "@jupyter-widgets/controls",
          "model_name": "HTMLModel",
          "model_module_version": "1.5.0",
          "state": {
            "_dom_classes": [],
            "_model_module": "@jupyter-widgets/controls",
            "_model_module_version": "1.5.0",
            "_model_name": "HTMLModel",
            "_view_count": null,
            "_view_module": "@jupyter-widgets/controls",
            "_view_module_version": "1.5.0",
            "_view_name": "HTMLView",
            "description": "",
            "description_tooltip": null,
            "layout": "IPY_MODEL_32eb533de8fd4981993f18c8bdb85a2f",
            "placeholder": "​",
            "style": "IPY_MODEL_341766de24e24d43a3e4f23ab1dae192",
            "value": " 15/100 [03:09&lt;18:22, 12.97s/it]"
          }
        },
        "7aba656054514ba88c0d747ebf69d4cc": {
          "model_module": "@jupyter-widgets/base",
          "model_name": "LayoutModel",
          "model_module_version": "1.2.0",
          "state": {
            "_model_module": "@jupyter-widgets/base",
            "_model_module_version": "1.2.0",
            "_model_name": "LayoutModel",
            "_view_count": null,
            "_view_module": "@jupyter-widgets/base",
            "_view_module_version": "1.2.0",
            "_view_name": "LayoutView",
            "align_content": null,
            "align_items": null,
            "align_self": null,
            "border": null,
            "bottom": null,
            "display": null,
            "flex": null,
            "flex_flow": null,
            "grid_area": null,
            "grid_auto_columns": null,
            "grid_auto_flow": null,
            "grid_auto_rows": null,
            "grid_column": null,
            "grid_gap": null,
            "grid_row": null,
            "grid_template_areas": null,
            "grid_template_columns": null,
            "grid_template_rows": null,
            "height": null,
            "justify_content": null,
            "justify_items": null,
            "left": null,
            "margin": null,
            "max_height": null,
            "max_width": null,
            "min_height": null,
            "min_width": null,
            "object_fit": null,
            "object_position": null,
            "order": null,
            "overflow": null,
            "overflow_x": null,
            "overflow_y": null,
            "padding": null,
            "right": null,
            "top": null,
            "visibility": null,
            "width": null
          }
        },
        "37417e68e2254390b2a1c2e621c75a76": {
          "model_module": "@jupyter-widgets/base",
          "model_name": "LayoutModel",
          "model_module_version": "1.2.0",
          "state": {
            "_model_module": "@jupyter-widgets/base",
            "_model_module_version": "1.2.0",
            "_model_name": "LayoutModel",
            "_view_count": null,
            "_view_module": "@jupyter-widgets/base",
            "_view_module_version": "1.2.0",
            "_view_name": "LayoutView",
            "align_content": null,
            "align_items": null,
            "align_self": null,
            "border": null,
            "bottom": null,
            "display": null,
            "flex": null,
            "flex_flow": null,
            "grid_area": null,
            "grid_auto_columns": null,
            "grid_auto_flow": null,
            "grid_auto_rows": null,
            "grid_column": null,
            "grid_gap": null,
            "grid_row": null,
            "grid_template_areas": null,
            "grid_template_columns": null,
            "grid_template_rows": null,
            "height": null,
            "justify_content": null,
            "justify_items": null,
            "left": null,
            "margin": null,
            "max_height": null,
            "max_width": null,
            "min_height": null,
            "min_width": null,
            "object_fit": null,
            "object_position": null,
            "order": null,
            "overflow": null,
            "overflow_x": null,
            "overflow_y": null,
            "padding": null,
            "right": null,
            "top": null,
            "visibility": null,
            "width": null
          }
        },
        "268b7196ba814b0f96583a4a2b58fdce": {
          "model_module": "@jupyter-widgets/controls",
          "model_name": "DescriptionStyleModel",
          "model_module_version": "1.5.0",
          "state": {
            "_model_module": "@jupyter-widgets/controls",
            "_model_module_version": "1.5.0",
            "_model_name": "DescriptionStyleModel",
            "_view_count": null,
            "_view_module": "@jupyter-widgets/base",
            "_view_module_version": "1.2.0",
            "_view_name": "StyleView",
            "description_width": ""
          }
        },
        "f4871bcaafd6401b9dcfc4d15b59da71": {
          "model_module": "@jupyter-widgets/base",
          "model_name": "LayoutModel",
          "model_module_version": "1.2.0",
          "state": {
            "_model_module": "@jupyter-widgets/base",
            "_model_module_version": "1.2.0",
            "_model_name": "LayoutModel",
            "_view_count": null,
            "_view_module": "@jupyter-widgets/base",
            "_view_module_version": "1.2.0",
            "_view_name": "LayoutView",
            "align_content": null,
            "align_items": null,
            "align_self": null,
            "border": null,
            "bottom": null,
            "display": null,
            "flex": null,
            "flex_flow": null,
            "grid_area": null,
            "grid_auto_columns": null,
            "grid_auto_flow": null,
            "grid_auto_rows": null,
            "grid_column": null,
            "grid_gap": null,
            "grid_row": null,
            "grid_template_areas": null,
            "grid_template_columns": null,
            "grid_template_rows": null,
            "height": null,
            "justify_content": null,
            "justify_items": null,
            "left": null,
            "margin": null,
            "max_height": null,
            "max_width": null,
            "min_height": null,
            "min_width": null,
            "object_fit": null,
            "object_position": null,
            "order": null,
            "overflow": null,
            "overflow_x": null,
            "overflow_y": null,
            "padding": null,
            "right": null,
            "top": null,
            "visibility": null,
            "width": null
          }
        },
        "9a8a4b6a89684cfc8cebb3fed8e18544": {
          "model_module": "@jupyter-widgets/controls",
          "model_name": "ProgressStyleModel",
          "model_module_version": "1.5.0",
          "state": {
            "_model_module": "@jupyter-widgets/controls",
            "_model_module_version": "1.5.0",
            "_model_name": "ProgressStyleModel",
            "_view_count": null,
            "_view_module": "@jupyter-widgets/base",
            "_view_module_version": "1.2.0",
            "_view_name": "StyleView",
            "bar_color": null,
            "description_width": ""
          }
        },
        "32eb533de8fd4981993f18c8bdb85a2f": {
          "model_module": "@jupyter-widgets/base",
          "model_name": "LayoutModel",
          "model_module_version": "1.2.0",
          "state": {
            "_model_module": "@jupyter-widgets/base",
            "_model_module_version": "1.2.0",
            "_model_name": "LayoutModel",
            "_view_count": null,
            "_view_module": "@jupyter-widgets/base",
            "_view_module_version": "1.2.0",
            "_view_name": "LayoutView",
            "align_content": null,
            "align_items": null,
            "align_self": null,
            "border": null,
            "bottom": null,
            "display": null,
            "flex": null,
            "flex_flow": null,
            "grid_area": null,
            "grid_auto_columns": null,
            "grid_auto_flow": null,
            "grid_auto_rows": null,
            "grid_column": null,
            "grid_gap": null,
            "grid_row": null,
            "grid_template_areas": null,
            "grid_template_columns": null,
            "grid_template_rows": null,
            "height": null,
            "justify_content": null,
            "justify_items": null,
            "left": null,
            "margin": null,
            "max_height": null,
            "max_width": null,
            "min_height": null,
            "min_width": null,
            "object_fit": null,
            "object_position": null,
            "order": null,
            "overflow": null,
            "overflow_x": null,
            "overflow_y": null,
            "padding": null,
            "right": null,
            "top": null,
            "visibility": null,
            "width": null
          }
        },
        "341766de24e24d43a3e4f23ab1dae192": {
          "model_module": "@jupyter-widgets/controls",
          "model_name": "DescriptionStyleModel",
          "model_module_version": "1.5.0",
          "state": {
            "_model_module": "@jupyter-widgets/controls",
            "_model_module_version": "1.5.0",
            "_model_name": "DescriptionStyleModel",
            "_view_count": null,
            "_view_module": "@jupyter-widgets/base",
            "_view_module_version": "1.2.0",
            "_view_name": "StyleView",
            "description_width": ""
          }
        }
      }
    },
    "accelerator": "GPU"
  },
  "nbformat": 4,
  "nbformat_minor": 0
}
